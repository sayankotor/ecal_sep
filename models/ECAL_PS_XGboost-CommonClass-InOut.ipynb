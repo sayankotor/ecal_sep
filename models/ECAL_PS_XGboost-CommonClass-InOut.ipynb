{
 "cells": [
  {
   "cell_type": "code",
   "execution_count": 3,
   "metadata": {
    "collapsed": false
   },
   "outputs": [
    {
     "name": "stdout",
     "output_type": "stream",
     "text": [
      "env: OMP_NUM_THREADS=8\n"
     ]
    }
   ],
   "source": [
    "%env OMP_NUM_THREADS=8"
   ]
  },
  {
   "cell_type": "code",
   "execution_count": 4,
   "metadata": {
    "collapsed": false
   },
   "outputs": [
    {
     "name": "stdout",
     "output_type": "stream",
     "text": [
      "Populating the interactive namespace from numpy and matplotlib\n"
     ]
    }
   ],
   "source": [
    "%pylab inline\n",
    "import time\n",
    "import numpy as np\n",
    "from sklearn.metrics import roc_auc_score\n",
    "from sklearn.metrics import roc_curve\n",
    "import matplotlib.pyplot as plt\n",
    "import theano\n",
    "theano.config.floatX = 'float32'\n",
    "import theano.tensor as T"
   ]
  },
  {
   "cell_type": "code",
   "execution_count": 5,
   "metadata": {
    "collapsed": true
   },
   "outputs": [],
   "source": [
    "from itertools import *\n",
    "import pickle\n",
    "#from hep_ml.reweight import BinsReweighter\n",
    "import numpy as np\n",
    "from sklearn import preprocessing\n",
    "from sklearn.cross_validation import train_test_split"
   ]
  },
  {
   "cell_type": "code",
   "execution_count": 6,
   "metadata": {
    "collapsed": false
   },
   "outputs": [],
   "source": [
    "%load_ext autoreload\n",
    "%autoreload 2\n",
    "import sys\n",
    "sys.path.insert(0, '../utils')\n",
    "import dem\n",
    "import classes"
   ]
  },
  {
   "cell_type": "code",
   "execution_count": 61,
   "metadata": {
    "collapsed": false
   },
   "outputs": [
    {
     "name": "stdout",
     "output_type": "stream",
     "text": [
      "Populating the interactive namespace from numpy and matplotlib\n"
     ]
    }
   ],
   "source": [
    "%pylab inline\n",
    "import xgboost as xgb\n",
    "\n",
    "from sklearn.ensemble import RandomForestClassifier\n",
    "from xgboost import XGBClassifier\n",
    "\n",
    "class xgbClf:\n",
    "    def __init__(self,name = 'default_z'):\n",
    "        self.xgb_clf = xgb.XGBClassifier(n_estimators=2000, learning_rate=0.05, max_depth = 5, min_child_weight = 2)\n",
    "        self.name = name\n",
    "    def fit(self, X_train, y_train):\n",
    "        print \"start fitting\"\n",
    "        self.xgb_clf.fit(dem.rev_(X_train), y_train)\n",
    "        self.write(self.name)\n",
    "        print \"fitting succeed\"\n",
    "    def count_score(self, X_val, y_val):\n",
    "        valid_answ = self.xgb_clf.predict_proba(dem.rev_(X_val))\n",
    "        self.valid_answ = valid_answ\n",
    "        print \"On val:\", roc_auc_score(y_val, valid_answ[:,1])\n",
    "        score = roc_auc_score(y_val, valid_answ[:,1])\n",
    "        fpr_, tpr_, thresholds_ = roc_curve(y_val, valid_answ[:,1])\n",
    "        plt.plot(fpr_, tpr_, label=\"Roc-Curve\")\n",
    "        plt.xlabel(\"False positive rate\")\n",
    "        plt.ylabel(\"True positive rate\")\n",
    "        str_for_plot = 'Roc-Curve for ' + self.name + \": \"+ str(round(score,4))\n",
    "        plt.title(str_for_plot)\n",
    "        \n",
    "    def predict_prob(self,test_sample):\n",
    "        return self.xgb_clf.predict_proba(dem.rev_(test_sample))\n",
    "    def write (self, file_name):\n",
    "        import pickle\n",
    "        print \"storing classifier in file\", file_name,\"...\",\n",
    "        pickle.dump(self.xgb_clf, open ('class/'+file_name, \"wb\"))\n",
    "        print \" ...done\""
   ]
  },
  {
   "cell_type": "markdown",
   "metadata": {},
   "source": [
    "## Separate fitting full and boundary square ##"
   ]
  },
  {
   "cell_type": "markdown",
   "metadata": {},
   "source": [
    "** Stack datasets :  x_tr, x_val, y_tr, y_val, area_tr, area_val**"
   ]
  },
  {
   "cell_type": "code",
   "execution_count": 14,
   "metadata": {
    "collapsed": false
   },
   "outputs": [
    {
     "name": "stdout",
     "output_type": "stream",
     "text": [
      "area list len: 42632 12277 0\n",
      "area list len: 63530 18879 0\n"
     ]
    }
   ],
   "source": [
    "simple0, inner0, outer0 = dem.preprocess3('../../../obt_data/inner_outer/Pi0Area0.pcl', '../../../obt_data/inner_outer/PhArea0.pcl')"
   ]
  },
  {
   "cell_type": "code",
   "execution_count": 22,
   "metadata": {
    "collapsed": true
   },
   "outputs": [],
   "source": [
    "def make_clf(elem, name):\n",
    "    clf_= xgbClf(name)\n",
    "    clf_.fit(elem[0], elem[2])\n",
    "    clf_.count_score(elem[1], elem[3])\n",
    "    return clf_"
   ]
  },
  {
   "cell_type": "code",
   "execution_count": 19,
   "metadata": {
    "collapsed": false
   },
   "outputs": [
    {
     "name": "stdout",
     "output_type": "stream",
     "text": [
      "area list len: 21921 7665 3774\n",
      "area list len: 39216 13960 10397\n"
     ]
    }
   ],
   "source": [
    "simple1, inner1, outer1 = dem.preprocess3('../../../obt_data/inner_outer/Pi0Area1.pcl', '../../../obt_data/inner_outer/PhArea1.pcl')"
   ]
  },
  {
   "cell_type": "code",
   "execution_count": 21,
   "metadata": {
    "collapsed": false
   },
   "outputs": [
    {
     "name": "stdout",
     "output_type": "stream",
     "text": [
      "area list len: 29895 0 3617\n",
      "area list len: 45499 0 9546\n"
     ]
    }
   ],
   "source": [
    "simple2, inner2, outer2 = dem.preprocess3('../../../obt_data/inner_outer/Pi0Area2.pcl', '../../../obt_data/inner_outer/PhArea2.pcl')"
   ]
  },
  {
   "cell_type": "markdown",
   "metadata": {},
   "source": [
    "## 0 area ##"
   ]
  },
  {
   "cell_type": "code",
   "execution_count": 62,
   "metadata": {
    "collapsed": false
   },
   "outputs": [
    {
     "name": "stdout",
     "output_type": "stream",
     "text": [
      "start fitting\n",
      "storing classifier in file 0_simpl ...  ...done\n",
      "fitting succeed\n",
      "On val: 0.958620892345\n"
     ]
    },
    {
     "data": {
      "image/png": "[encoded data removed]",
      "text/plain": [
       "<matplotlib.figure.Figure at 0x7f3dd7825310>"
      ]
     },
     "metadata": {},
     "output_type": "display_data"
    }
   ],
   "source": [
    "clf0_simple = make_clf(simple0, '0_simpl')"
   ]
  },
  {
   "cell_type": "code",
   "execution_count": 63,
   "metadata": {
    "collapsed": false
   },
   "outputs": [
    {
     "name": "stdout",
     "output_type": "stream",
     "text": [
      "start fitting\n",
      "storing classifier in file 0_inner ...  ...done\n",
      "fitting succeed\n",
      "On val: 0.915141255879\n"
     ]
    },
    {
     "data": {
      "image/png": "[encoded data removed]",
      "text/plain": [
       "<matplotlib.figure.Figure at 0x7f3dd7c09d50>"
      ]
     },
     "metadata": {},
     "output_type": "display_data"
    }
   ],
   "source": [
    "clf0_inner= make_clf(inner0, '0_inner')"
   ]
  },
  {
   "cell_type": "code",
   "execution_count": 36,
   "metadata": {
    "collapsed": true
   },
   "outputs": [],
   "source": [
    "clf0_outer = xgbClf()"
   ]
  },
  {
   "cell_type": "markdown",
   "metadata": {},
   "source": [
    "## 1 area ##"
   ]
  },
  {
   "cell_type": "code",
   "execution_count": 64,
   "metadata": {
    "collapsed": false
   },
   "outputs": [
    {
     "name": "stdout",
     "output_type": "stream",
     "text": [
      "start fitting\n",
      "storing classifier in file 1_simpl ...  ...done\n",
      "fitting succeed\n",
      "On val: 0.970124804178\n"
     ]
    },
    {
     "data": {
      "image/png": "[encoded data removed]",
      "text/plain": [
       "<matplotlib.figure.Figure at 0x7f3dd78e7b90>"
      ]
     },
     "metadata": {},
     "output_type": "display_data"
    }
   ],
   "source": [
    "clf1_simple=make_clf(simple1, '1_simpl')"
   ]
  },
  {
   "cell_type": "code",
   "execution_count": 65,
   "metadata": {
    "collapsed": false
   },
   "outputs": [
    {
     "name": "stdout",
     "output_type": "stream",
     "text": [
      "start fitting\n",
      "storing classifier in file 1_inner ...  ...done\n",
      "fitting succeed\n",
      "On val: 0.935824837007\n"
     ]
    },
    {
     "data": {
      "image/png": "[encoded data removed]",
      "text/plain": [
       "<matplotlib.figure.Figure at 0x7f3dd7927810>"
      ]
     },
     "metadata": {},
     "output_type": "display_data"
    }
   ],
   "source": [
    "clf1_inner=make_clf(inner1, '1_inner')"
   ]
  },
  {
   "cell_type": "code",
   "execution_count": 66,
   "metadata": {
    "collapsed": false
   },
   "outputs": [
    {
     "name": "stdout",
     "output_type": "stream",
     "text": [
      "start fitting\n",
      "storing classifier in file 1_outer ...  ...done\n",
      "fitting succeed\n",
      "On val: 0.949296635174\n"
     ]
    },
    {
     "data": {
      "image/png": "[encoded data removed]",
      "text/plain": [
       "<matplotlib.figure.Figure at 0x7f3dd76bfb90>"
      ]
     },
     "metadata": {},
     "output_type": "display_data"
    }
   ],
   "source": [
    "clf1_outer=make_clf(outer1, '1_outer')"
   ]
  },
  {
   "cell_type": "markdown",
   "metadata": {},
   "source": [
    "## 2 area ##"
   ]
  },
  {
   "cell_type": "code",
   "execution_count": 67,
   "metadata": {
    "collapsed": false
   },
   "outputs": [
    {
     "name": "stdout",
     "output_type": "stream",
     "text": [
      "start fitting\n",
      "storing classifier in file 2_simpl ...  ...done\n",
      "fitting succeed\n",
      "On val: 0.95996415362\n"
     ]
    },
    {
     "data": {
      "image/png": "[encoded data removed]",
      "text/plain": [
       "<matplotlib.figure.Figure at 0x7f3dd7901290>"
      ]
     },
     "metadata": {},
     "output_type": "display_data"
    }
   ],
   "source": [
    "clf2_simple=make_clf(simple2, '2_simpl')"
   ]
  },
  {
   "cell_type": "code",
   "execution_count": 68,
   "metadata": {
    "collapsed": false
   },
   "outputs": [
    {
     "name": "stdout",
     "output_type": "stream",
     "text": [
      "start fitting\n",
      "storing classifier in file 2_outer ...  ...done\n",
      "fitting succeed\n",
      "On val: 0.960871540869\n"
     ]
    },
    {
     "data": {
      "image/png": "[encoded data removed]",
      "text/plain": [
       "<matplotlib.figure.Figure at 0x7f3dd7b2cbd0>"
      ]
     },
     "metadata": {},
     "output_type": "display_data"
    }
   ],
   "source": [
    "clf2_outer=make_clf(outer2, '2_outer')"
   ]
  },
  {
   "cell_type": "code",
   "execution_count": 43,
   "metadata": {
    "collapsed": true
   },
   "outputs": [],
   "source": [
    "clf2_inner = xgbClf()"
   ]
  },
  {
   "cell_type": "markdown",
   "metadata": {},
   "source": [
    "## Common classifier ##"
   ]
  },
  {
   "cell_type": "code",
   "execution_count": 44,
   "metadata": {
    "collapsed": false
   },
   "outputs": [],
   "source": [
    "classifiers = {0:{0:clf0_simple, 1:clf0_inner, 2:clf0_outer}, 1:{0:clf1_simple, 1:clf1_inner, 2:clf1_outer}, 2:{0:clf2_simple, 1:clf2_inner, 2:clf2_outer}}"
   ]
  },
  {
   "cell_type": "code",
   "execution_count": 550,
   "metadata": {
    "collapsed": false
   },
   "outputs": [
    {
     "data": {
      "text/plain": [
       "[26541, 15285, 18849, 14741, 10993, 3291]"
      ]
     },
     "execution_count": 550,
     "metadata": {},
     "output_type": "execute_result"
    }
   ],
   "source": [
    "map(len,[X_val0, X_val1, X_val2, X_val_rec0, X_val_rec, X_val_rec2])"
   ]
  },
  {
   "cell_type": "code",
   "execution_count": 551,
   "metadata": {
    "collapsed": false
   },
   "outputs": [
    {
     "data": {
      "text/plain": [
       "[26541, 15285, 18849, 14741, 10993, 3291]"
      ]
     },
     "execution_count": 551,
     "metadata": {},
     "output_type": "execute_result"
    }
   ],
   "source": [
    "map(len,[y_val0, y_val1, y_val2, y_val_rec0, y_val_rec, y_val_rec2])"
   ]
  },
  {
   "cell_type": "code",
   "execution_count": 47,
   "metadata": {
    "collapsed": false
   },
   "outputs": [
    {
     "name": "stdout",
     "output_type": "stream",
     "text": [
      "(26541, 2, 5, 5)\n",
      "(15285, 2, 5, 5)\n",
      "(18849, 2, 5, 5)\n",
      "(7789, 2, 5, 5)\n",
      "(5407, 2, 5, 5)\n",
      "(0,)\n",
      "(0,)\n",
      "(3543, 2, 5, 5)\n",
      "(3291, 2, 5, 5)\n"
     ]
    }
   ],
   "source": [
    "for elem in [simple0[1], simple1[1], simple2[1], inner0[1], inner1[1], inner2[1], outer0[1], outer1[1], outer2[1]]:\n",
    "    print elem.shape"
   ]
  },
  {
   "cell_type": "code",
   "execution_count": 48,
   "metadata": {
    "collapsed": false
   },
   "outputs": [],
   "source": [
    "X_common_val = np.concatenate([simple0[1], simple1[1], simple2[1], inner0[1], inner1[1], outer1[1], outer2[1]], axis = 0)\n",
    "Y_common_val = np.concatenate([simple0[3], simple1[3], simple2[3], inner0[3], inner1[3], outer1[3], outer2[3]], axis = 0)\n",
    "Common_clf = np.concatenate([simple0[5], simple1[5], simple2[5], inner0[5], inner1[5], outer1[5], outer2[5]], axis = 0)\n",
    "shuffle_ind = np.arange(len(X_common_val))\n",
    "np.random.shuffle(shuffle_ind)\n",
    "X_common_val = X_common_val[shuffle_ind]\n",
    "Y_common_val = Y_common_val[shuffle_ind]\n",
    "Common_clf = Common_clf[shuffle_ind]"
   ]
  },
  {
   "cell_type": "code",
   "execution_count": 51,
   "metadata": {
    "collapsed": false
   },
   "outputs": [],
   "source": [
    "def common_prediction(X_common_val, Common_clf):\n",
    "    answ = []\n",
    "    print 'common prediction'\n",
    "    for (X_val, clf) in (zip(X_common_val, Common_clf)):\n",
    "        try:\n",
    "            clf_partial = classifiers[clf[0]][clf[1]]\n",
    "            answ.append(clf_partial.xgb_clf.predict_proba(X_val.ravel().reshape((1,50))))\n",
    "            if len(answ)%5000 == 0:\n",
    "                print len(answ)\n",
    "        except:\n",
    "            print \"clf\", clf\n",
    "            break\n",
    "    return answ\n"
   ]
  },
  {
   "cell_type": "code",
   "execution_count": 52,
   "metadata": {
    "collapsed": false
   },
   "outputs": [
    {
     "name": "stdout",
     "output_type": "stream",
     "text": [
      "common prediction\n",
      "5000\n",
      "10000\n",
      "15000\n",
      "20000\n",
      "25000\n",
      "30000\n",
      "35000\n",
      "40000\n",
      "45000\n",
      "50000\n",
      "55000\n",
      "60000\n",
      "65000\n",
      "70000\n",
      "75000\n",
      "80000\n"
     ]
    }
   ],
   "source": [
    "answ_common = common_prediction(X_common_val, Common_clf)"
   ]
  },
  {
   "cell_type": "code",
   "execution_count": 53,
   "metadata": {
    "collapsed": false
   },
   "outputs": [
    {
     "name": "stdout",
     "output_type": "stream",
     "text": [
      "On val: 0.95589153987\n"
     ]
    },
    {
     "data": {
      "text/plain": [
       "[<matplotlib.lines.Line2D at 0x7f3dd775bbd0>]"
      ]
     },
     "execution_count": 53,
     "metadata": {},
     "output_type": "execute_result"
    },
    {
     "data": {
      "image/png": "[encoded data removed]",
      "text/plain": [
       "<matplotlib.figure.Figure at 0x7f3dd779e2d0>"
      ]
     },
     "metadata": {},
     "output_type": "display_data"
    }
   ],
   "source": [
    "predict_answ = np.array(answ_common).reshape((len(answ_common), 2))[:,1]\n",
    "print \"On val:\", roc_auc_score(Y_common_val, predict_answ)\n",
    "fpr_, tpr_, thresholds_ = roc_curve(Y_common_val,predict_answ)\n",
    "plt.plot(fpr_, tpr_, label=\"Roc-Curve\")"
   ]
  },
  {
   "cell_type": "code",
   "execution_count": null,
   "metadata": {
    "collapsed": true
   },
   "outputs": [],
   "source": []
  }
 ],
 "metadata": {
  "kernelspec": {
   "display_name": "Python 2",
   "language": "python",
   "name": "python2"
  },
  "language_info": {
   "codemirror_mode": {
    "name": "ipython",
    "version": 2
   },
   "file_extension": ".py",
   "mimetype": "text/x-python",
   "name": "python",
   "nbconvert_exporter": "python",
   "pygments_lexer": "ipython2",
   "version": "2.7.10"
  }
 },
 "nbformat": 4,
 "nbformat_minor": 0
}
