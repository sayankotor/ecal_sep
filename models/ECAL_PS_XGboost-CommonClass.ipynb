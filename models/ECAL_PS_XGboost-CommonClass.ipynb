{
 "cells": [
  {
   "cell_type": "code",
   "execution_count": 523,
   "metadata": {
    "collapsed": false
   },
   "outputs": [
    {
     "name": "stdout",
     "output_type": "stream",
     "text": [
      "env: OMP_NUM_THREADS=8\n"
     ]
    }
   ],
   "source": [
    "%env OMP_NUM_THREADS=8"
   ]
  },
  {
   "cell_type": "code",
   "execution_count": 524,
   "metadata": {
    "collapsed": false
   },
   "outputs": [
    {
     "name": "stdout",
     "output_type": "stream",
     "text": [
      "Populating the interactive namespace from numpy and matplotlib\n"
     ]
    },
    {
     "name": "stderr",
     "output_type": "stream",
     "text": [
      "WARNING: pylab import has clobbered these variables: ['clf']\n",
      "`%matplotlib` prevents importing * from pylab and numpy\n"
     ]
    }
   ],
   "source": [
    "%pylab inline\n",
    "import time\n",
    "import numpy as np\n",
    "from sklearn.metrics import roc_auc_score\n",
    "from sklearn.metrics import roc_curve\n",
    "import matplotlib.pyplot as plt\n",
    "import theano\n",
    "theano.config.floatX = 'float32'\n",
    "import theano.tensor as T"
   ]
  },
  {
   "cell_type": "code",
   "execution_count": 525,
   "metadata": {
    "collapsed": true
   },
   "outputs": [],
   "source": [
    "from itertools import *\n",
    "import pickle\n",
    "#from hep_ml.reweight import BinsReweighter\n",
    "import numpy as np\n",
    "from sklearn import preprocessing\n",
    "from sklearn.cross_validation import train_test_split"
   ]
  },
  {
   "cell_type": "code",
   "execution_count": 526,
   "metadata": {
    "collapsed": false
   },
   "outputs": [
    {
     "name": "stdout",
     "output_type": "stream",
     "text": [
      "The autoreload extension is already loaded. To reload it, use:\n",
      "  %reload_ext autoreload\n"
     ]
    }
   ],
   "source": [
    "%load_ext autoreload\n",
    "%autoreload 2\n",
    "import sys\n",
    "sys.path.insert(0, '../utils')\n",
    "import dem\n",
    "import classes"
   ]
  },
  {
   "cell_type": "code",
   "execution_count": 528,
   "metadata": {
    "collapsed": false
   },
   "outputs": [
    {
     "name": "stdout",
     "output_type": "stream",
     "text": [
      "Populating the interactive namespace from numpy and matplotlib\n"
     ]
    }
   ],
   "source": [
    "%pylab inline\n",
    "import xgboost as xgb\n",
    "\n",
    "from sklearn.ensemble import RandomForestClassifier\n",
    "from xgboost import XGBClassifier\n",
    "\n",
    "class xgbClf:\n",
    "    xgb_clf = xgb.XGBClassifier(n_estimators=2000, learning_rate=0.05, max_depth = 5, min_child_weight = 2)\n",
    "    xtest_ex = []\n",
    "    def __init__(self,name = 'default_z'):\n",
    "        self.name = name\n",
    "    def fit(self, X_train, y_train):\n",
    "        print \"start fitting\"\n",
    "        self.xgb_clf.fit(dem.rev_(X_train), y_train)\n",
    "        self.write(self.name)\n",
    "        print \"fitting succeed\"\n",
    "    def count_score(self, X_val, y_val):\n",
    "        valid_answ = self.xgb_clf.predict_proba(dem.rev_(X_val))\n",
    "        self.valid_answ = valid_answ\n",
    "        print \"On val:\", roc_auc_score(y_val, valid_answ[:,1])\n",
    "        fpr_, tpr_, thresholds_ = roc_curve(y_val, valid_answ[:,1])\n",
    "        plt.plot(fpr_, tpr_, label=\"Roc-Curve\")\n",
    "        \n",
    "    def predict_prob(self,test_sample):\n",
    "        return self.xgb_clf.predict_proba(dem.rev_(test_sample))\n",
    "    def write (self, file_name):\n",
    "        import pickle\n",
    "        print \"storing classifier in file\", file_name,\"...\",\n",
    "        pickle.dump(self.xgb_clf, open ('class/'+file_name, \"wb\"))\n",
    "        print \" ...done\"\n",
    "    #def loads(self, params=None):\n",
    "        #print \"loads\", self.name\n",
    "        #self.xgb_clf._Booster.load_model('class/'+self.name)"
   ]
  },
  {
   "cell_type": "markdown",
   "metadata": {},
   "source": [
    "## Separate fitting full and boundary square ##"
   ]
  },
  {
   "cell_type": "markdown",
   "metadata": {},
   "source": [
    "** Stack datasets **"
   ]
  },
  {
   "cell_type": "code",
   "execution_count": 529,
   "metadata": {
    "collapsed": false
   },
   "outputs": [
    {
     "name": "stdout",
     "output_type": "stream",
     "text": [
      "area list len: 42632 21276\n",
      "area list len: 63530 37687\n",
      "X_all shape2 (106162, 2, 5, 5)\n",
      "arealist shapes (42632, 2) (63530, 2)\n",
      "(2,)\n",
      "X_all shape2 (58963, 2, 5, 5)\n",
      "(2,)\n"
     ]
    }
   ],
   "source": [
    "(X_train0,X_val0,y_train0,y_val0, area_train0, area_val0), (X_train_rec0,X_val_rec0,y_train_rec0,y_val_rec0, area_train_rec0, area_val_rec0) = dem.preprocess2('../../../obt_data/Pi0Area0.pcl', '../../../obt_data/PhArea0.pcl')"
   ]
  },
  {
   "cell_type": "code",
   "execution_count": 530,
   "metadata": {
    "collapsed": false
   },
   "outputs": [
    {
     "name": "stdout",
     "output_type": "stream",
     "text": [
      "area list len: 21921 17604\n",
      "area list len: 39216 40354\n",
      "X_all shape2 (61137, 2, 5, 5)\n",
      "arealist shapes (21921, 2) (39216, 2)\n",
      "(2,)\n",
      "X_all shape2 (57958, 2, 5, 5)\n",
      "(2,)\n"
     ]
    }
   ],
   "source": [
    "(X_train1,X_val1,y_train1,y_val1, area_train1, area_val1), (X_train_rec1,X_val_rec1,y_train_rec1,y_val_rec1, area_train_rec1, area_val_rec1) = dem.preprocess2('../../../obt_data/Pi0Area1.pcl', '../../../obt_data/PhArea1.pcl')"
   ]
  },
  {
   "cell_type": "code",
   "execution_count": 531,
   "metadata": {
    "collapsed": false
   },
   "outputs": [
    {
     "name": "stdout",
     "output_type": "stream",
     "text": [
      "area list len: 29895 3617\n",
      "area list len: 45499 9546\n",
      "X_all shape2 (75394, 2, 5, 5)\n",
      "arealist shapes (29895, 2) (45499, 2)\n",
      "(2,)\n",
      "X_all shape2 (13163, 2, 5, 5)\n",
      "(2,)\n"
     ]
    }
   ],
   "source": [
    "(X_train2,X_val2,y_train2,y_val2, area_train2, area_val2), (X_train_rec2,X_val_rec2,y_train_rec2,y_val_rec2, area_train_rec2, area_val_rec2) = dem.preprocess2('../../../obt_data/Pi0Area2.pcl', '../../../obt_data/PhArea2.pcl')"
   ]
  },
  {
   "cell_type": "markdown",
   "metadata": {},
   "source": [
    "## 0 area ##"
   ]
  },
  {
   "cell_type": "code",
   "execution_count": 535,
   "metadata": {
    "collapsed": false
   },
   "outputs": [
    {
     "name": "stdout",
     "output_type": "stream",
     "text": [
      "start fitting\n",
      "storing classifier in file 0_simpl ...  ...done\n",
      "fitting succeed\n",
      "On val: 0.957644729291\n"
     ]
    },
    {
     "data": {
      "image/png": "[encoded data removed]",
      "text/plain": [
       "<matplotlib.figure.Figure at 0x7fae234f6e10>"
      ]
     },
     "metadata": {},
     "output_type": "display_data"
    }
   ],
   "source": [
    "clf0_simple= xgbClf('0_simpl')\n",
    "clf0_simple.fit(X_train0, y_train0)\n",
    "clf0_simple.count_score(X_val0, y_val0)"
   ]
  },
  {
   "cell_type": "code",
   "execution_count": 536,
   "metadata": {
    "collapsed": false
   },
   "outputs": [
    {
     "name": "stdout",
     "output_type": "stream",
     "text": [
      "start fitting\n",
      "storing classifier in file 0_bound ...  ...done\n",
      "fitting succeed\n",
      "On val: 0.911529640949\n"
     ]
    },
    {
     "data": {
      "image/png": "[encoded data removed]",
      "text/plain": [
       "<matplotlib.figure.Figure at 0x7fade3fc3750>"
      ]
     },
     "metadata": {},
     "output_type": "display_data"
    }
   ],
   "source": [
    "clf0_bound= xgbClf('0_bound')\n",
    "clf0_bound.fit(X_train_rec0, y_train_rec0)\n",
    "clf0_bound.count_score(X_val_rec0, y_val_rec0)"
   ]
  },
  {
   "cell_type": "markdown",
   "metadata": {},
   "source": [
    "## 1 area ##"
   ]
  },
  {
   "cell_type": "code",
   "execution_count": 537,
   "metadata": {
    "collapsed": false
   },
   "outputs": [
    {
     "name": "stdout",
     "output_type": "stream",
     "text": [
      "start fitting\n",
      "storing classifier in file 1_simpl ...  ...done\n",
      "fitting succeed\n",
      "On val: 0.970245440493\n"
     ]
    },
    {
     "data": {
      "image/png": "[encoded data removed]",
      "text/plain": [
       "<matplotlib.figure.Figure at 0x7fae22880150>"
      ]
     },
     "metadata": {},
     "output_type": "display_data"
    }
   ],
   "source": [
    "clf1_simple= xgbClf('1_simpl')\n",
    "clf1_simple.fit(X_train1, y_train1)\n",
    "clf1_simple.count_score(X_val1, y_val1)"
   ]
  },
  {
   "cell_type": "code",
   "execution_count": 538,
   "metadata": {
    "collapsed": false
   },
   "outputs": [
    {
     "name": "stdout",
     "output_type": "stream",
     "text": [
      "start fitting\n",
      "storing classifier in file 1_bound ...  ...done\n",
      "fitting succeed\n",
      "On val: 0.946242858555\n"
     ]
    },
    {
     "data": {
      "image/png": "[encoded data removed]",
      "text/plain": [
       "<matplotlib.figure.Figure at 0x7fae22880190>"
      ]
     },
     "metadata": {},
     "output_type": "display_data"
    }
   ],
   "source": [
    "clf1_simple= xgbClf('1_bound')\n",
    "clf1_simple.fit(X_train_rec1, y_train_rec1)\n",
    "clf1_simple.count_score(X_val_rec1, y_val_rec1)"
   ]
  },
  {
   "cell_type": "markdown",
   "metadata": {},
   "source": [
    "## 2 area ##"
   ]
  },
  {
   "cell_type": "code",
   "execution_count": 539,
   "metadata": {
    "collapsed": false
   },
   "outputs": [
    {
     "name": "stdout",
     "output_type": "stream",
     "text": [
      "start fitting\n",
      "storing classifier in file 2_simpl ...  ...done\n",
      "fitting succeed\n",
      "On val: 0.957794440794\n"
     ]
    },
    {
     "data": {
      "image/png": "[encoded data removed]",
      "text/plain": [
       "<matplotlib.figure.Figure at 0x7fae0d827610>"
      ]
     },
     "metadata": {},
     "output_type": "display_data"
    }
   ],
   "source": [
    "clf2_simple= xgbClf('2_simpl')\n",
    "clf2_simple.fit(X_train2, y_train2)\n",
    "clf2_simple.count_score(X_val2, y_val2)"
   ]
  },
  {
   "cell_type": "code",
   "execution_count": 540,
   "metadata": {
    "collapsed": false
   },
   "outputs": [
    {
     "name": "stdout",
     "output_type": "stream",
     "text": [
      "start fitting\n",
      "storing classifier in file 2_bound ...  ...done\n",
      "fitting succeed\n",
      "On val: 0.962024624851\n"
     ]
    },
    {
     "data": {
      "image/png": "[encoded data removed]",
      "text/plain": [
       "<matplotlib.figure.Figure at 0x7fae0db96990>"
      ]
     },
     "metadata": {},
     "output_type": "display_data"
    }
   ],
   "source": [
    "clf2_bound= xgbClf('2_bound')\n",
    "clf2_bound.fit(X_train_rec2, y_train_rec2)\n",
    "clf2_bound.count_score(X_val_rec2, y_val_rec2)"
   ]
  },
  {
   "cell_type": "markdown",
   "metadata": {},
   "source": [
    "## Common classifier ##"
   ]
  },
  {
   "cell_type": "code",
   "execution_count": 542,
   "metadata": {
    "collapsed": false
   },
   "outputs": [],
   "source": [
    "classifiers = {0:{0:clf0_simple, 1:clf0_bound}, 1:{0:clf1_simple, 1:clf1_bound}, 2:{0:clf2_simple, 1:clf2_bound}}"
   ]
  },
  {
   "cell_type": "code",
   "execution_count": 557,
   "metadata": {
    "collapsed": false
   },
   "outputs": [
    {
     "name": "stdout",
     "output_type": "stream",
     "text": [
      "<__main__.xgbClf instance at 0x7fae0dc3d710> <__main__.xgbClf instance at 0x7fae0dc3d710>\n",
      "<__main__.xgbClf instance at 0x7fae0dc5ffc8> <__main__.xgbClf instance at 0x7fae0dc5ffc8>\n",
      "<__main__.xgbClf instance at 0x7fae0d80ecb0> <__main__.xgbClf instance at 0x7fae0d80ecb0>\n",
      "<__main__.xgbClf instance at 0x7fade408e098> <__main__.xgbClf instance at 0x7fade408e098>\n",
      "<__main__.xgbClf instance at 0x7fae0d1116c8> <__main__.xgbClf instance at 0x7fae0d1116c8>\n",
      "<__main__.xgbClf instance at 0x7fadf60f4d40> <__main__.xgbClf instance at 0x7fadf60f4d40>\n"
     ]
    }
   ],
   "source": [
    "print clf0_simple, classifiers[0][0]\n",
    "print clf0_bound, classifiers[0][1]\n",
    "print clf1_simple, classifiers[1][0]\n",
    "print clf1_bound, classifiers[1][1]\n",
    "print clf2_simple, classifiers[2][0]\n",
    "print clf2_bound, classifiers[2][1]\n"
   ]
  },
  {
   "cell_type": "code",
   "execution_count": 550,
   "metadata": {
    "collapsed": false
   },
   "outputs": [
    {
     "data": {
      "text/plain": [
       "[26541, 15285, 18849, 14741, 10993, 3291]"
      ]
     },
     "execution_count": 550,
     "metadata": {},
     "output_type": "execute_result"
    }
   ],
   "source": [
    "map(len,[X_val0, X_val1, X_val2, X_val_rec0, X_val_rec, X_val_rec2])"
   ]
  },
  {
   "cell_type": "code",
   "execution_count": 551,
   "metadata": {
    "collapsed": false
   },
   "outputs": [
    {
     "data": {
      "text/plain": [
       "[26541, 15285, 18849, 14741, 10993, 3291]"
      ]
     },
     "execution_count": 551,
     "metadata": {},
     "output_type": "execute_result"
    }
   ],
   "source": [
    "map(len,[y_val0, y_val1, y_val2, y_val_rec0, y_val_rec, y_val_rec2])"
   ]
  },
  {
   "cell_type": "code",
   "execution_count": 552,
   "metadata": {
    "collapsed": false
   },
   "outputs": [],
   "source": [
    "X_common_val = np.concatenate([X_val0, X_val1, X_val2, X_val_rec0, X_val_rec1, X_val_rec2], axis = 0)\n",
    "Y_common_val = np.concatenate([y_val0, y_val1, y_val2, y_val_rec0, y_val_rec1, y_val_rec2], axis = 0)\n",
    "Common_clf = np.concatenate([area_val0, area_val1, area_val2, area_val_rec0, area_val_rec1, area_val_rec2], axis = 0)\n",
    "shuffle_ind = np.arange(len(X_common_val))\n",
    "np.random.shuffle(shuffle_ind)\n",
    "X_common_val = X_common_val[shuffle_ind]\n",
    "Y_common_val = Y_common_val[shuffle_ind]\n",
    "Common_clf = Common_clf[shuffle_ind]"
   ]
  },
  {
   "cell_type": "code",
   "execution_count": 553,
   "metadata": {
    "collapsed": false
   },
   "outputs": [],
   "source": [
    "def common_prediction(X_common_val, Common_clf):\n",
    "    answ = []\n",
    "    print 'common prediction'\n",
    "    for (X_val, clf) in (zip(X_common_val, Common_clf)):\n",
    "        try:\n",
    "            clf_name = classifiers[clf[0]][clf[1]].name\n",
    "            clf_partial = xgbClf()\n",
    "            clf_partial.xgb_clf = pickle.load (open ('class/'+clf_name, \"rb\"))\n",
    "            answ.append(clf_partial.xgb_clf.predict_proba(X_val.ravel().reshape((1,50))))\n",
    "            if len(answ)%500 == 0:\n",
    "                print len(answ)\n",
    "        except:\n",
    "            print \"clf\", clf\n",
    "            break\n",
    "    return answ\n"
   ]
  },
  {
   "cell_type": "code",
   "execution_count": 554,
   "metadata": {
    "collapsed": false
   },
   "outputs": [
    {
     "name": "stdout",
     "output_type": "stream",
     "text": [
      "common prediction\n",
      "500\n",
      "1000\n",
      "1500\n",
      "2000\n",
      "2500\n",
      "3000\n",
      "3500\n",
      "4000\n",
      "4500\n",
      "5000\n",
      "5500\n",
      "6000\n",
      "6500\n",
      "7000\n",
      "7500\n",
      "8000\n",
      "8500\n",
      "9000\n",
      "9500\n",
      "10000\n",
      "10500\n",
      "11000\n",
      "11500\n",
      "12000\n",
      "12500\n",
      "13000\n",
      "13500\n",
      "14000\n",
      "14500\n",
      "15000\n",
      "15500\n",
      "16000\n",
      "16500\n",
      "17000\n",
      "17500\n",
      "18000\n",
      "18500\n",
      "19000\n",
      "19500\n",
      "20000\n",
      "20500\n",
      "21000\n",
      "21500\n",
      "22000\n",
      "22500\n",
      "23000\n",
      "23500\n",
      "24000\n",
      "24500\n",
      "25000\n",
      "25500\n",
      "26000\n",
      "26500\n",
      "27000\n",
      "27500\n",
      "28000\n",
      "28500\n",
      "29000\n",
      "29500\n",
      "30000\n",
      "30500\n",
      "31000\n",
      "31500\n",
      "32000\n",
      "32500\n",
      "33000\n",
      "33500\n",
      "34000\n",
      "34500\n",
      "35000\n",
      "35500\n",
      "36000\n",
      "36500\n",
      "37000\n",
      "37500\n",
      "38000\n",
      "38500\n",
      "39000\n",
      "39500\n",
      "40000\n",
      "40500\n",
      "41000\n",
      "41500\n",
      "42000\n",
      "42500\n",
      "43000\n",
      "43500\n",
      "44000\n",
      "44500\n",
      "45000\n",
      "45500\n",
      "46000\n",
      "46500\n",
      "47000\n",
      "47500\n",
      "48000\n",
      "48500\n",
      "49000\n",
      "49500\n",
      "50000\n",
      "50500\n",
      "51000\n",
      "51500\n",
      "52000\n",
      "52500\n",
      "53000\n",
      "53500\n",
      "54000\n",
      "54500\n",
      "55000\n",
      "55500\n",
      "56000\n",
      "56500\n",
      "57000\n",
      "57500\n",
      "58000\n",
      "58500\n",
      "59000\n",
      "59500\n",
      "60000\n",
      "60500\n",
      "61000\n",
      "61500\n",
      "62000\n",
      "62500\n",
      "63000\n",
      "63500\n",
      "64000\n",
      "64500\n",
      "65000\n",
      "65500\n",
      "66000\n",
      "66500\n",
      "67000\n",
      "67500\n",
      "68000\n",
      "68500\n",
      "69000\n",
      "69500\n",
      "70000\n",
      "70500\n",
      "71000\n",
      "71500\n",
      "72000\n",
      "72500\n",
      "73000\n",
      "73500\n",
      "74000\n",
      "74500\n",
      "75000\n",
      "75500\n",
      "76000\n",
      "76500\n",
      "77000\n",
      "77500\n",
      "78000\n",
      "78500\n",
      "79000\n",
      "79500\n",
      "80000\n",
      "80500\n",
      "81000\n",
      "81500\n",
      "82000\n",
      "82500\n",
      "83000\n",
      "83500\n",
      "84000\n",
      "84500\n",
      "85000\n",
      "85500\n",
      "86000\n",
      "86500\n",
      "87000\n",
      "87500\n",
      "88000\n",
      "88500\n",
      "89000\n",
      "89500\n",
      "90000\n",
      "90500\n",
      "91000\n",
      "91500\n",
      "92000\n",
      "92500\n",
      "93000\n"
     ]
    }
   ],
   "source": [
    "answ_common = common_prediction(X_common_val, Common_clf)"
   ]
  },
  {
   "cell_type": "code",
   "execution_count": 555,
   "metadata": {
    "collapsed": false
   },
   "outputs": [
    {
     "name": "stdout",
     "output_type": "stream",
     "text": [
      "On val: 0.93252628449\n"
     ]
    },
    {
     "data": {
      "text/plain": [
       "[<matplotlib.lines.Line2D at 0x7fae0e30e850>]"
      ]
     },
     "execution_count": 555,
     "metadata": {},
     "output_type": "execute_result"
    },
    {
     "data": {
      "image/png": "[encoded data removed]",
      "text/plain": [
       "<matplotlib.figure.Figure at 0x7fae0d8c9750>"
      ]
     },
     "metadata": {},
     "output_type": "display_data"
    }
   ],
   "source": [
    "predict_answ = np.array(answ_common).reshape((len(answ_common), 2))[:,1]\n",
    "print \"On val:\", roc_auc_score(Y_common_val, predict_answ)\n",
    "fpr_, tpr_, thresholds_ = roc_curve(Y_common_val,predict_answ)\n",
    "plt.plot(fpr_, tpr_, label=\"Roc-Curve\")"
   ]
  },
  {
   "cell_type": "markdown",
   "metadata": {
    "collapsed": true
   },
   "source": [
    "## TRY only X area ##"
   ]
  },
  {
   "cell_type": "code",
   "execution_count": 511,
   "metadata": {
    "collapsed": false
   },
   "outputs": [
    {
     "data": {
      "text/plain": [
       "26541"
      ]
     },
     "execution_count": 511,
     "metadata": {},
     "output_type": "execute_result"
    }
   ],
   "source": [
    "len(X_val0)"
   ]
  },
  {
   "cell_type": "code",
   "execution_count": 514,
   "metadata": {
    "collapsed": false
   },
   "outputs": [
    {
     "name": "stdout",
     "output_type": "stream",
     "text": [
      "500\n",
      "1000\n"
     ]
    }
   ],
   "source": [
    "answ = []\n",
    "for (X_val, clf) in (zip(X_val0[:1000], area_val0[:1000])):\n",
    "    clf_name = classifiers[clf[0]][clf[1]].name\n",
    "    clf_partial = xgbClf()\n",
    "    clf_partial.xgb_clf = pickle.load (open ('class/'+clf_name, \"rb\"))\n",
    "    answ.append(clf_partial.xgb_clf.predict_proba(X_val.ravel().reshape((1,50))))\n",
    "    if len(answ)%500 == 0:\n",
    "        print len(answ)"
   ]
  },
  {
   "cell_type": "code",
   "execution_count": 516,
   "metadata": {
    "collapsed": false
   },
   "outputs": [
    {
     "name": "stdout",
     "output_type": "stream",
     "text": [
      " On val: 0.96201155892\n"
     ]
    }
   ],
   "source": [
    "predict_answ = np.array(answ).reshape((len(answ), 2))[:,1]\n",
    "print \"On val:\", roc_auc_score(y_val0[:1000], predict_answ)"
   ]
  },
  {
   "cell_type": "code",
   "execution_count": 491,
   "metadata": {
    "collapsed": false
   },
   "outputs": [
    {
     "name": "stdout",
     "output_type": "stream",
     "text": [
      "common prediction new\n",
      "loads 0_simpl\n",
      "loads 0_simpl\n",
      "loads 0_simpl\n",
      "loads 0_simpl\n",
      "loads 0_simpl\n",
      "loads 0_simpl\n",
      "loads 0_simpl\n",
      "loads 0_simpl\n",
      "loads 0_simpl\n",
      "loads 0_simpl\n",
      "10\n",
      "On val: 0.5\n"
     ]
    },
    {
     "data": {
      "text/plain": [
       "[<matplotlib.lines.Line2D at 0x7fae234e0fd0>]"
      ]
     },
     "execution_count": 491,
     "metadata": {},
     "output_type": "execute_result"
    },
    {
     "data": {
      "image/png": "[encoded data removed]",
      "text/plain": [
       "<matplotlib.figure.Figure at 0x7fade41e5bd0>"
      ]
     },
     "metadata": {},
     "output_type": "display_data"
    }
   ],
   "source": [
    "names = []\n",
    "answ_val0 = common_prediction(X_val0[:10], area_val0[:10])\n",
    "print len(answ_val0)\n",
    "predict_answ = np.array(answ_val0).reshape((len(answ_val0), 2))[:,1]\n",
    "print \"On val:\", roc_auc_score(y_val0[:10], predict_answ)\n",
    "fpr_, tpr_, thresholds_ = roc_curve(y_val0[:10], predict_answ)\n",
    "plt.plot(fpr_, tpr_, label=\"Roc-Curve\")"
   ]
  },
  {
   "cell_type": "code",
   "execution_count": 408,
   "metadata": {
    "collapsed": false
   },
   "outputs": [
    {
     "name": "stdout",
     "output_type": "stream",
     "text": [
      "common prediction new\n",
      "On val: 0.957357197754\n"
     ]
    },
    {
     "data": {
      "text/plain": [
       "[<matplotlib.lines.Line2D at 0x7fae0db4ddd0>]"
      ]
     },
     "execution_count": 408,
     "metadata": {},
     "output_type": "execute_result"
    },
    {
     "data": {
      "image/png": "[encoded data removed]",
      "text/plain": [
       "<matplotlib.figure.Figure at 0x7fae0d462350>"
      ]
     },
     "metadata": {},
     "output_type": "display_data"
    }
   ],
   "source": [
    "names = []\n",
    "answ_val0 = common_prediction1(X_val0, area_val0, names)\n",
    "predict_answ = np.array(answ_val0).reshape((len(answ_val0), 2))[:,1]\n",
    "print \"On val:\", roc_auc_score(y_val0, predict_answ)\n",
    "fpr_, tpr_, thresholds_ = roc_curve(y_val0, predict_answ)\n",
    "plt.plot(fpr_, tpr_, label=\"Roc-Curve\")"
   ]
  },
  {
   "cell_type": "code",
   "execution_count": null,
   "metadata": {
    "collapsed": true
   },
   "outputs": [],
   "source": []
  }
 ],
 "metadata": {
  "kernelspec": {
   "display_name": "Python 2",
   "language": "python",
   "name": "python2"
  },
  "language_info": {
   "codemirror_mode": {
    "name": "ipython",
    "version": 2
   },
   "file_extension": ".py",
   "mimetype": "text/x-python",
   "name": "python",
   "nbconvert_exporter": "python",
   "pygments_lexer": "ipython2",
   "version": "2.7.10"
  }
 },
 "nbformat": 4,
 "nbformat_minor": 0
}
