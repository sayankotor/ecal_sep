{
 "cells": [
  {
   "cell_type": "code",
   "execution_count": 1,
   "metadata": {
    "collapsed": false
   },
   "outputs": [
    {
     "name": "stdout",
     "output_type": "stream",
     "text": [
      "env: OMP_NUM_THREADS=8\n"
     ]
    }
   ],
   "source": [
    "%env OMP_NUM_THREADS=8"
   ]
  },
  {
   "cell_type": "code",
   "execution_count": 2,
   "metadata": {
    "collapsed": false
   },
   "outputs": [
    {
     "name": "stdout",
     "output_type": "stream",
     "text": [
      "Populating the interactive namespace from numpy and matplotlib\n"
     ]
    }
   ],
   "source": [
    "%pylab inline\n",
    "import time\n",
    "import numpy as np\n",
    "from sklearn.metrics import roc_auc_score\n",
    "from sklearn.metrics import roc_curve\n",
    "import matplotlib.pyplot as plt\n",
    "import theano\n",
    "theano.config.floatX = 'float32'\n",
    "import theano.tensor as T"
   ]
  },
  {
   "cell_type": "code",
   "execution_count": 3,
   "metadata": {
    "collapsed": true
   },
   "outputs": [],
   "source": [
    "from itertools import *\n",
    "import pickle\n",
    "#from hep_ml.reweight import BinsReweighter\n",
    "import numpy as np\n",
    "from sklearn import preprocessing\n",
    "from sklearn.cross_validation import train_test_split"
   ]
  },
  {
   "cell_type": "code",
   "execution_count": 4,
   "metadata": {
    "collapsed": false
   },
   "outputs": [],
   "source": [
    "%load_ext autoreload\n",
    "%autoreload 2\n",
    "import sys\n",
    "sys.path.insert(0, '../utils')\n",
    "import dem"
   ]
  },
  {
   "cell_type": "code",
   "execution_count": 161,
   "metadata": {
    "collapsed": false
   },
   "outputs": [
    {
     "name": "stdout",
     "output_type": "stream",
     "text": [
      "Populating the interactive namespace from numpy and matplotlib\n"
     ]
    }
   ],
   "source": [
    "%pylab inline\n",
    "import xgboost as xgb\n",
    "\n",
    "from sklearn.ensemble import RandomForestClassifier\n",
    "from xgboost import XGBClassifier\n",
    "\n",
    "class xgbClf:\n",
    "    xgb_clf = xgb.XGBClassifier(n_estimators=2000, learning_rate=0.05, max_depth = 5, min_child_weight = 2)\n",
    "    xtest_ex = []\n",
    "    def __init__(self,name = 'default_z'):\n",
    "        self.name = name\n",
    "    def fit(self, X_train, y_train):\n",
    "        print \"start fitting\"\n",
    "        self.xgb_clf.fit(dem.rev_(X_train), y_train)\n",
    "        #self.write(name)\n",
    "        print \"fitting succeed\"\n",
    "    def count_score(self, X_val, y_val):\n",
    "        valid_answ = self.xgb_clf.predict_proba(dem.rev_(X_val))\n",
    "        self.valid_answ = valid_answ\n",
    "        print \"On val:\", roc_auc_score(y_val, valid_answ[:,1])\n",
    "        fpr_, tpr_, thresholds_ = roc_curve(y_val, valid_answ[:,1])\n",
    "        plt.plot(fpr_, tpr_, label=\"Roc-Curve\")\n",
    "        plt.savefig(\"2area_all.png\")\n",
    "        \n",
    "    def predict_prob(self,test_sample):\n",
    "        return self.xgb_clf.predict_proba(test_sample)\n",
    "    def write (self, file_name):\n",
    "        import pickle\n",
    "        print \"storing classifier in file\", file_name,\"...\",\n",
    "        pickle.dump(self.xgb_clf, open (file_name, \"wb\"))\n",
    "        print \" ...done\""
   ]
  },
  {
   "cell_type": "markdown",
   "metadata": {},
   "source": [
    "## Separate fitting full and boundary square ##"
   ]
  },
  {
   "cell_type": "markdown",
   "metadata": {},
   "source": [
    "** Stack datasets **"
   ]
  },
  {
   "cell_type": "code",
   "execution_count": 40,
   "metadata": {
    "collapsed": false
   },
   "outputs": [
    {
     "name": "stdout",
     "output_type": "stream",
     "text": [
      "area list len: 29895 3617\n",
      "area list len: 63530 37687\n",
      "X_all shape2 (93425, 2, 5, 5)\n",
      "arealist shapes (29895, 2) (63530, 2)\n",
      "(2,)\n",
      "X_all shape2 (41304, 2, 5, 5)\n",
      "(2,)\n"
     ]
    }
   ],
   "source": [
    "(X_train0,X_val0,y_train0,y_val0, area_train0, area_val0), (X_train_rec0,X_val_rec0,y_train_rec0,y_val_rec0, area_train_rec0, area_val_rec0) = dem.preprocess2('../../../obt_data/Pi0Area0.pcl', '../../../obt_data/PhArea0.pcl')"
   ]
  },
  {
   "cell_type": "code",
   "execution_count": 162,
   "metadata": {
    "collapsed": false
   },
   "outputs": [
    {
     "name": "stdout",
     "output_type": "stream",
     "text": [
      "start fitting\n",
      "fitting succeed\n",
      "On val: 0.999457336889\n"
     ]
    },
    {
     "data": {
      "image/png": "[encoded data removed]",
      "text/plain": [
       "<matplotlib.figure.Figure at 0x7fade4063790>"
      ]
     },
     "metadata": {},
     "output_type": "display_data"
    }
   ],
   "source": [
    "clf1_simple= xgbClf('1_simpl')\n",
    "clf1_simple.fit(X_train, y_train)\n",
    "clf1_simple.count_score(X_val, y_val)"
   ]
  },
  {
   "cell_type": "code",
   "execution_count": 163,
   "metadata": {
    "collapsed": false
   },
   "outputs": [
    {
     "name": "stdout",
     "output_type": "stream",
     "text": [
      "start fitting\n",
      "fitting succeed\n",
      "On val: 0.996597537335\n"
     ]
    },
    {
     "data": {
      "image/png": "[encoded data removed]",
      "text/plain": [
       "<matplotlib.figure.Figure at 0x7fae23600e90>"
      ]
     },
     "metadata": {},
     "output_type": "display_data"
    }
   ],
   "source": [
    "clf1_bound= xgbClf('1_bound')\n",
    "clf1_bound.fit(X_train_rec, y_train_rec)\n",
    "clf1_bound.count_score(X_val_rec, y_val_rec)"
   ]
  },
  {
   "cell_type": "code",
   "execution_count": 166,
   "metadata": {
    "collapsed": false
   },
   "outputs": [
    {
     "name": "stdout",
     "output_type": "stream",
     "text": [
      "start fitting\n",
      "fitting succeed\n",
      "On val: 0.958288390905\n"
     ]
    },
    {
     "data": {
      "image/png": "[encoded data removed]",
      "text/plain": [
       "<matplotlib.figure.Figure at 0x7fae0dc3c1d0>"
      ]
     },
     "metadata": {},
     "output_type": "display_data"
    }
   ],
   "source": [
    "clf2_simple= xgbClf('2_simpl')\n",
    "clf2_simple.fit(X_train2, y_train2)\n",
    "clf2_simple.count_score(X_val2, y_val2)"
   ]
  },
  {
   "cell_type": "code",
   "execution_count": 167,
   "metadata": {
    "collapsed": false
   },
   "outputs": [
    {
     "name": "stdout",
     "output_type": "stream",
     "text": [
      "start fitting\n",
      "fitting succeed\n",
      "On val: 0.956488365876\n"
     ]
    },
    {
     "data": {
      "image/png": "[encoded data removed]",
      "text/plain": [
       "<matplotlib.figure.Figure at 0x7fade40b1ed0>"
      ]
     },
     "metadata": {},
     "output_type": "display_data"
    }
   ],
   "source": [
    "clf2_bound= xgbClf('2_bound')\n",
    "clf2_bound.fit(X_train_rec2, y_train_rec2)\n",
    "clf2_bound.count_score(X_val_rec2, y_val_rec2)"
   ]
  },
  {
   "cell_type": "code",
   "execution_count": 169,
   "metadata": {
    "collapsed": false
   },
   "outputs": [
    {
     "name": "stdout",
     "output_type": "stream",
     "text": [
      "start fitting\n",
      "fitting succeed\n",
      "On val: 0.999969494618\n"
     ]
    },
    {
     "data": {
      "image/png": "[encoded data removed]",
      "text/plain": [
       "<matplotlib.figure.Figure at 0x7fae0dd60d90>"
      ]
     },
     "metadata": {},
     "output_type": "display_data"
    }
   ],
   "source": [
    "clf0_simple= xgbClf('0_simpl')\n",
    "clf0_simple.fit(X_train0, y_train0)\n",
    "clf0_simple.count_score(X_val0, y_val0)"
   ]
  },
  {
   "cell_type": "code",
   "execution_count": 171,
   "metadata": {
    "collapsed": false
   },
   "outputs": [
    {
     "name": "stdout",
     "output_type": "stream",
     "text": [
      "TRAIN 30978 VAL 10326\n",
      "start fitting\n",
      "fitting succeed\n",
      "On val: 0.999913670333\n"
     ]
    },
    {
     "data": {
      "image/png": "[encoded data removed]",
      "text/plain": [
       "<matplotlib.figure.Figure at 0x7fae22beda50>"
      ]
     },
     "metadata": {},
     "output_type": "display_data"
    }
   ],
   "source": [
    "print \"TRAIN\", len(X_train_rec0), \"VAL\", len(X_val_rec0)\n",
    "clf0_bound= xgbClf('0_bound')\n",
    "clf0_bound.fit(X_train_rec0, y_train_rec0)\n",
    "clf0_bound.count_score(X_val_rec0, y_val_rec0)"
   ]
  },
  {
   "cell_type": "markdown",
   "metadata": {},
   "source": [
    "## Common classifier ##"
   ]
  },
  {
   "cell_type": "code",
   "execution_count": 93,
   "metadata": {
    "collapsed": true
   },
   "outputs": [],
   "source": [
    "classifiers = {1:{0:clf1_simple, 1:clf1_bound}, 0:{0:clf0_simple, 1:clf0_bound}, 2:{0:clf2_simple, 1:clf2_bound}}"
   ]
  },
  {
   "cell_type": "code",
   "execution_count": 81,
   "metadata": {
    "collapsed": false
   },
   "outputs": [],
   "source": [
    "X_common_val = np.concatenate([X_val0, X_val, X_val2, X_val_rec0, X_val_rec, X_val_rec2], axis = 0)\n",
    "Y_common_val = np.concatenate([y_val0, y_val, y_val2, y_val_rec0, y_val_rec, y_val_rec2], axis = 0)\n",
    "Common_clf = np.concatenate([area_val0, area_val, area_val2, area_val_rec0, area_val_rec, area_val_rec2], axis = 0)\n",
    "shuffle_ind = np.arange(len(X_common_val))\n",
    "np.random.shuffle(shuffle_ind)\n",
    "X_common_val = X_common_val[shuffle_ind]\n",
    "Y_common_val = Y_common_val[shuffle_ind]\n",
    "Common_clf = Common_clf[shuffle_ind]"
   ]
  },
  {
   "cell_type": "code",
   "execution_count": 152,
   "metadata": {
    "collapsed": false
   },
   "outputs": [],
   "source": [
    "def common_prediction(X_common_val, Common_clf):\n",
    "    answ = []\n",
    "    for (X_val, clf) in (zip(X_common_val, Common_clf)):\n",
    "        try:\n",
    "            clf_partial = classifiers[clf[0]][clf[1]]\n",
    "            answ.append(clf_partial.xgb_clf.predict_proba(dem.rev_(X_val.reshape((1,2,5,5))))[0][1])\n",
    "        except:\n",
    "            print \"clf\", clf\n",
    "    return answ"
   ]
  },
  {
   "cell_type": "code",
   "execution_count": 155,
   "metadata": {
    "collapsed": false
   },
   "outputs": [
    {
     "name": "stdout",
     "output_type": "stream",
     "text": [
      "\n"
     ]
    }
   ],
   "source": [
    "answ1 = common_prediction(X_common_val, Common_clf)"
   ]
  },
  {
   "cell_type": "code",
   "execution_count": 157,
   "metadata": {
    "collapsed": false
   },
   "outputs": [
    {
     "name": "stdout",
     "output_type": "stream",
     "text": [
      "On val: 0.922000987695\n"
     ]
    },
    {
     "data": {
      "image/png": "[encoded data removed]",
      "text/plain": [
       "<matplotlib.figure.Figure at 0x7fade4063dd0>"
      ]
     },
     "metadata": {},
     "output_type": "display_data"
    }
   ],
   "source": [
    "print \"On val:\", roc_auc_score(Y_common_val, np.array(answ1))\n",
    "fpr_, tpr_, thresholds_ = roc_curve(Y_common_val,np.array(answ1))\n",
    "plt.plot(fpr_, tpr_, label=\"Roc-Curve\")\n",
    "plt.savefig(\"common_classifier.png\")"
   ]
  },
  {
   "cell_type": "code",
   "execution_count": null,
   "metadata": {
    "collapsed": true
   },
   "outputs": [],
   "source": []
  }
 ],
 "metadata": {
  "kernelspec": {
   "display_name": "Python 2",
   "language": "python",
   "name": "python2"
  },
  "language_info": {
   "codemirror_mode": {
    "name": "ipython",
    "version": 2
   },
   "file_extension": ".py",
   "mimetype": "text/x-python",
   "name": "python",
   "nbconvert_exporter": "python",
   "pygments_lexer": "ipython2",
   "version": "2.7.10"
  }
 },
 "nbformat": 4,
 "nbformat_minor": 0
}
