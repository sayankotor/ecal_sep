{
 "cells": [
  {
   "cell_type": "code",
   "execution_count": 26,
   "metadata": {
    "collapsed": false
   },
   "outputs": [
    {
     "name": "stdout",
     "output_type": "stream",
     "text": [
      "env: OMP_NUM_THREADS=8\n"
     ]
    }
   ],
   "source": [
    "%env OMP_NUM_THREADS=8"
   ]
  },
  {
   "cell_type": "code",
   "execution_count": 27,
   "metadata": {
    "collapsed": false
   },
   "outputs": [
    {
     "name": "stdout",
     "output_type": "stream",
     "text": [
      "Populating the interactive namespace from numpy and matplotlib\n"
     ]
    },
    {
     "name": "stderr",
     "output_type": "stream",
     "text": [
      "WARNING: pylab import has clobbered these variables: ['product', 'compress', 'clf', 'repeat']\n",
      "`%matplotlib` prevents importing * from pylab and numpy\n"
     ]
    }
   ],
   "source": [
    "%pylab inline\n",
    "import time\n",
    "import numpy as np\n",
    "from sklearn.metrics import roc_auc_score\n",
    "from sklearn.metrics import roc_curve\n",
    "import matplotlib.pyplot as plt\n",
    "import theano\n",
    "theano.config.floatX = 'float32'\n",
    "import theano.tensor as T"
   ]
  },
  {
   "cell_type": "code",
   "execution_count": 28,
   "metadata": {
    "collapsed": true
   },
   "outputs": [],
   "source": [
    "from itertools import *"
   ]
  },
  {
   "cell_type": "code",
   "execution_count": 12,
   "metadata": {
    "collapsed": true
   },
   "outputs": [],
   "source": [
    "import pickle\n",
    "#from hep_ml.reweight import BinsReweighter\n",
    "import numpy as np\n",
    "from sklearn import preprocessing\n",
    "from sklearn.cross_validation import train_test_split\n",
    "\n",
    "def get_weight(energy1_, energy2_):\n",
    "    reweighter = BinsReweighter()\n",
    "    reweighter.fit(energy1_, energy2_) #energy\n",
    "    X1_weights = reweighter.predict_weights(energy1_)\n",
    "    sampler = np.random.choice(np.arange(len(energy1_)),\n",
    "                               p = X1_weights/X1_weights.sum(),\n",
    "                               replace=False,\n",
    "                               size=len(energy2_))\n",
    "\n",
    "    energy2_ = numpy.array(energy2_)\n",
    "    energy1_ = numpy.array(energy1_)\n",
    "    X1_w = energy1_[sampler]\n",
    "\n",
    "    weight2 = np.ones(len(energy2_))\n",
    "    print type(weight2), type(X1_weights)\n",
    "    weights_ = np.concatenate((X1_weights, weight2), axis = 0)\n",
    "    plt.hist(energy2, bins = 50,alpha=0.5)\n",
    "    plt.hist(X1_w, bins = 50,alpha=0.5)\n",
    "    plt.show()\n",
    "    return weights_\n",
    "\n",
    "def rev_(X_train):\n",
    "    X_train_rev = list()\n",
    "    for elem in X_train:\n",
    "        X_train_rev.append(elem.ravel())\n",
    "    X_train_rev = np.array(X_train_rev)\n",
    "    return X_train_rev\n",
    "\n",
    "def get_fpr(tpr_val, tpr_, fpr_):\n",
    "    new_trp = [abs(tpr_-0.9)]\n",
    "    index = np.argmin(new_trp)\n",
    "    return fpr_[index]\n",
    "\n",
    "def write_data(str1, str2):\n",
    "    with open(str1) as f_in:\n",
    "        X1, hypo1, y1, energy1 = pickle.load(f_in)\n",
    "\n",
    "    with open(str2) as f_in:\n",
    "        X2, hypo2, y2, energy2 = pickle.load(f_in)\n",
    "    print X1[9].shape, X2[9].shape\n",
    "    print len(X1)\n",
    "    print np.array(X1).shape\n",
    "    return np.array(X1), np.array(hypo1), np.array(y1), np.array(energy1), np.array(X2), np.array(hypo2), np.array(y2), np.array(energy2)\n",
    "\n",
    "def preprocess(str1, str2):\n",
    "    X1, hypo1, y1, energy1, X2, hypo2, y2, energy2 =  write_data(str1, str2)\n",
    "    print X1.shape, X2.shape\n",
    "    X_all = np.concatenate((X1, X2), axis=0)\n",
    "    print \"X_all shape\", X_all.shape\n",
    "    Y_all = np.concatenate((y1, y2), axis=0)\n",
    "    #weights = get_weight(energy1, energy2)\n",
    "    weights = np.ones(len(X_all))\n",
    "    X_train,X_val,y_train,y_val, w_train, w_test = train_test_split(X_all,Y_all,weights)\n",
    "    return X_train,X_val,y_train,y_val, w_train, w_test"
   ]
  },
  {
   "cell_type": "code",
   "execution_count": null,
   "metadata": {
    "collapsed": true
   },
   "outputs": [],
   "source": [
    "X_train,X_val,y_train,y_val, w_train, w_val = preprocess(\"../obt_data/ReconstructionPi0.pcl\", \"../obt_data/ReconstructionPh.pcl\")"
   ]
  },
  {
   "cell_type": "code",
   "execution_count": 13,
   "metadata": {
    "collapsed": false
   },
   "outputs": [
    {
     "name": "stdout",
     "output_type": "stream",
     "text": [
      "(2, 5, 5) (2, 5, 5)\n",
      "42622\n",
      "(42622,)\n",
      "(42622,) (232330,)\n",
      "X_all shape (274952,)\n"
     ]
    }
   ],
   "source": [
    "X_train,X_val,y_train,y_val, w_train, w_val = preprocess(\"../obt_data/ReconstructionPi0.pcl\", \"../obt_data/ReconstructionPh.pcl\")"
   ]
  },
  {
   "cell_type": "code",
   "execution_count": 20,
   "metadata": {
    "collapsed": true
   },
   "outputs": [],
   "source": [
    "with open(\"../obt_data/ReconstructionPi0.pcl\") as f_in:\n",
    "        X1, hypo1, y1, energy1 = pickle.load(f_in)\n"
   ]
  },
  {
   "cell_type": "code",
   "execution_count": 21,
   "metadata": {
    "collapsed": false
   },
   "outputs": [
    {
     "name": "stdout",
     "output_type": "stream",
     "text": [
      "42622\n",
      "(2, 5, 5)\n",
      "(42622, 2, 5, 5)\n"
     ]
    }
   ],
   "source": [
    "print len(X1)\n",
    "a = X1[0].shape\n",
    "print a\n",
    "for elem in X1:\n",
    "    if (elem.shape != a):\n",
    "        print elem.shape\n",
    "print np.array(X1).shape"
   ]
  },
  {
   "cell_type": "code",
   "execution_count": 4,
   "metadata": {
    "collapsed": false
   },
   "outputs": [
    {
     "name": "stderr",
     "output_type": "stream",
     "text": [
      "/root/miniconda/envs/rep_py2/lib/python2.7/site-packages/sklearn/cross_validation.py:44: DeprecationWarning: This module was deprecated in version 0.18 in favor of the model_selection module into which all the refactored classes and functions are moved. Also note that the interface of the new CV iterators are different from that of this module. This module will be removed in 0.20.\n",
      "  \"This module will be removed in 0.20.\", DeprecationWarning)\n"
     ]
    }
   ],
   "source": [
    "%load_ext autoreload\n",
    "%autoreload 2\n",
    "\n",
    "import dem"
   ]
  },
  {
   "cell_type": "code",
   "execution_count": 49,
   "metadata": {
    "collapsed": false
   },
   "outputs": [
    {
     "name": "stdout",
     "output_type": "stream",
     "text": [
      "Populating the interactive namespace from numpy and matplotlib\n"
     ]
    },
    {
     "name": "stderr",
     "output_type": "stream",
     "text": [
      "WARNING: pylab import has clobbered these variables: ['clf']\n",
      "`%matplotlib` prevents importing * from pylab and numpy\n"
     ]
    }
   ],
   "source": [
    "%pylab inline\n",
    "import xgboost as xgb\n",
    "\n",
    "from sklearn.ensemble import RandomForestClassifier\n",
    "from xgboost import XGBClassifier\n",
    "\n",
    "class xgbClf:\n",
    "    xgb_clf = xgb.XGBClassifier(n_estimators=2000, learning_rate=0.05, max_depth = 5, min_child_weight = 2)\n",
    "    xtest_ex = []\n",
    "    def __init__(self, photons_init_str, pi0s_init_str):\n",
    "        X_train,X_val,y_train,y_val, w_train, w_val = dem.preprocess(\"../obt_data/RecArea2Pi0.pcl\", \"../obt_data/RecArea2Ph.pcl\")\n",
    "        self.xtest_ex = X_val\n",
    "        print \"preprocessing succeed\"\n",
    "        a = dem.rev_(X_train)\n",
    "        print a.shape\n",
    "        self.xgb_clf.fit(dem.rev_(X_train), y_train, w_train)\n",
    "        print \"fitting succeed\"\n",
    "        valid_answ = self.xgb_clf.predict_proba(dem.rev_(X_val))\n",
    "        print \"On val:\", roc_auc_score(y_val, valid_answ[:,1])\n",
    "        fpr_, tpr_, thresholds_ = roc_curve(y_val, valid_answ[:,1])\n",
    "        plt.plot(fpr_, tpr_, label=\"Roc-Curve\")\n",
    "        plt.savefig(\"2areaNot.png\")\n",
    "        \n",
    "    def predict_prob(self,test_sample):\n",
    "        return self.xgb_clf.predict_proba(test_sample)"
   ]
  },
  {
   "cell_type": "code",
   "execution_count": 47,
   "metadata": {
    "collapsed": false
   },
   "outputs": [
    {
     "name": "stdout",
     "output_type": "stream",
     "text": [
      "X_all shape (236093, 2, 5, 5)\n",
      "preprocessing succeed\n",
      "(177069, 50)\n",
      "fitting succeed\n",
      "On val: 0.951255434717\n"
     ]
    },
    {
     "data": {
      "image/png": "[encoded data removed]",
      "text/plain": [
       "<matplotlib.figure.Figure at 0x7f6bff8c6c50>"
      ]
     },
     "metadata": {},
     "output_type": "display_data"
    }
   ],
   "source": [
    "clf = xgbClf(\"../obt_data/ReconstructionPi0.pcl\", \"../obt_data/ReconstructionPh.pcl\")"
   ]
  },
  {
   "cell_type": "code",
   "execution_count": 43,
   "metadata": {
    "collapsed": false
   },
   "outputs": [
    {
     "name": "stdout",
     "output_type": "stream",
     "text": [
      "X_all shape (202971, 2, 5, 5)\n",
      "preprocessing succeed\n",
      "(152228, 50)\n",
      "fitting succeed\n",
      "On val: 0.949669788969\n"
     ]
    },
    {
     "data": {
      "image/png": "[encoded data removed]",
      "text/plain": [
       "<matplotlib.figure.Figure at 0x7f6c006df650>"
      ]
     },
     "metadata": {},
     "output_type": "display_data"
    }
   ],
   "source": [
    "clf = xgbClf(\"../obt_data/ReconstructionPi0Not.pcl\", \"../obt_data/ReconstructionPhNOT.pcl\")"
   ]
  },
  {
   "cell_type": "code",
   "execution_count": 50,
   "metadata": {
    "collapsed": false
   },
   "outputs": [
    {
     "name": "stdout",
     "output_type": "stream",
     "text": [
      "X_all shape (236093, 2, 5, 5)\n",
      "preprocessing succeed\n",
      "(177069, 50)\n",
      "fitting succeed\n",
      "On val: 0.951964334546\n"
     ]
    },
    {
     "data": {
      "image/png": "[encoded data removed]",
      "text/plain": [
       "<matplotlib.figure.Figure at 0x7f6bffd8a950>"
      ]
     },
     "metadata": {},
     "output_type": "display_data"
    }
   ],
   "source": [
    "clf = xgbClf(\"../obt_data/ReconstructionPi0Not.pcl\", \"../obt_data/ReconstructionPhNOT.pcl\")"
   ]
  },
  {
   "cell_type": "markdown",
   "metadata": {},
   "source": [
    "**Сэмплом**"
   ]
  },
  {
   "cell_type": "code",
   "execution_count": 30,
   "metadata": {
    "collapsed": false
   },
   "outputs": [
    {
     "name": "stdout",
     "output_type": "stream",
     "text": [
      "5000\n"
     ]
    }
   ],
   "source": [
    "answ_ex = clf.predict_prob(dem.rev_(clf.xtest_ex))\n",
    "print len(answ_ex)"
   ]
  },
  {
   "cell_type": "markdown",
   "metadata": {},
   "source": [
    "** По одному квадрату**"
   ]
  },
  {
   "cell_type": "code",
   "execution_count": 38,
   "metadata": {
    "collapsed": false
   },
   "outputs": [
    {
     "data": {
      "image/png": "[encoded data removed]",
      "text/plain": [
       "<matplotlib.figure.Figure at 0x7ff1f03ea890>"
      ]
     },
     "metadata": {},
     "output_type": "display_data"
    },
    {
     "name": "stdout",
     "output_type": "stream",
     "text": [
      "prob [[ 0.16780955  0.83219045]]\n"
     ]
    },
    {
     "data": {
      "image/png": "[encoded data removed]",
      "text/plain": [
       "<matplotlib.figure.Figure at 0x7ff1f14c63d0>"
      ]
     },
     "metadata": {},
     "output_type": "display_data"
    },
    {
     "name": "stdout",
     "output_type": "stream",
     "text": [
      "prob [[ 0.1353178  0.8646822]]\n"
     ]
    },
    {
     "data": {
      "image/png": "[encoded data removed]",
      "text/plain": [
       "<matplotlib.figure.Figure at 0x7ff1f01c9290>"
      ]
     },
     "metadata": {},
     "output_type": "display_data"
    },
    {
     "name": "stdout",
     "output_type": "stream",
     "text": [
      "prob [[ 0.02460259  0.97539741]]\n"
     ]
    },
    {
     "data": {
      "image/png": "[encoded data removed]",
      "text/plain": [
       "<matplotlib.figure.Figure at 0x7ff1995844d0>"
      ]
     },
     "metadata": {},
     "output_type": "display_data"
    },
    {
     "name": "stdout",
     "output_type": "stream",
     "text": [
      "prob [[ 0.01442575  0.98557425]]\n"
     ]
    },
    {
     "data": {
      "image/png": "[encoded data removed]",
      "text/plain": [
       "<matplotlib.figure.Figure at 0x7ff1994ae590>"
      ]
     },
     "metadata": {},
     "output_type": "display_data"
    },
    {
     "name": "stdout",
     "output_type": "stream",
     "text": [
      "prob [[ 0.04585814  0.95414186]]\n"
     ]
    }
   ],
   "source": [
    "import matplotlib.pyplot as plt\n",
    "\n",
    "for square in clf.xtest_ex[20:25]:\n",
    "    plt.imshow(square[0].reshape(5,5), interpolation='nearest')\n",
    "    plt.show()\n",
    "    print \"prob\", clf.predict_prob(square.reshape(1,50))"
   ]
  },
  {
   "cell_type": "code",
   "execution_count": null,
   "metadata": {
    "collapsed": true
   },
   "outputs": [],
   "source": []
  }
 ],
 "metadata": {
  "kernelspec": {
   "display_name": "Python 2",
   "language": "python",
   "name": "python2"
  },
  "language_info": {
   "codemirror_mode": {
    "name": "ipython",
    "version": 2
   },
   "file_extension": ".py",
   "mimetype": "text/x-python",
   "name": "python",
   "nbconvert_exporter": "python",
   "pygments_lexer": "ipython2",
   "version": "2.7.10"
  }
 },
 "nbformat": 4,
 "nbformat_minor": 0
}
