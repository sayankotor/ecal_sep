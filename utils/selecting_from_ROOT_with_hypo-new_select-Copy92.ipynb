{
 "cells": [
  {
   "cell_type": "code",
   "execution_count": 4,
   "metadata": {
    "collapsed": false
   },
   "outputs": [
    {
     "name": "stderr",
     "output_type": "stream",
     "text": [
      "/root/miniconda/envs/rep_py2/lib/python2.7/site-packages/IPython/kernel/__init__.py:13: ShimWarning: The `IPython.kernel` package has been deprecated. You should import from ipykernel or jupyter_client instead.\n",
      "  \"You should import from ipykernel or jupyter_client instead.\", ShimWarning)\n"
     ]
    }
   ],
   "source": [
    "import pandas\n",
    "import numpy as np\n",
    "from rootpy.io import root_open"
   ]
  },
  {
   "cell_type": "code",
   "execution_count": 5,
   "metadata": {
    "collapsed": false
   },
   "outputs": [
    {
     "name": "stdout",
     "output_type": "stream",
     "text": [
      "env: OMP_NUM_THREADS=4\n"
     ]
    }
   ],
   "source": [
    "%env OMP_NUM_THREADS=4"
   ]
  },
  {
   "cell_type": "code",
   "execution_count": 6,
   "metadata": {
    "collapsed": false
   },
   "outputs": [],
   "source": [
    "%load_ext autoreload\n",
    "%autoreload 2\n",
    "\n",
    "import root_numpy"
   ]
  },
  {
   "cell_type": "markdown",
   "metadata": {},
   "source": [
    "Класс, который соответсвует области калориметра, проверяяет, не выскакивает ли квадрат за калориметр"
   ]
  },
  {
   "cell_type": "code",
   "execution_count": 7,
   "metadata": {
    "collapsed": false
   },
   "outputs": [],
   "source": [
    "class Bound(object):\n",
    "    def __init__(self, left=0, right=0, bottom=0, top=0, multiplier = 1, divider = 1):\n",
    "        self.left = left\n",
    "        self.right = right\n",
    "        self.top = top\n",
    "        self.bottom = bottom\n",
    "        self.multiplier = multiplier\n",
    "        self.divider = divider\n",
    "\n",
    "class Area(object):\n",
    "    def __init__(self):\n",
    "        self.inner = Bound()\n",
    "        self.outer = Bound()\n",
    "    def get_inner_bound():\n",
    "        return self.inner\n",
    "    def get_outer_bound():\n",
    "        return self.outer\n",
    "    \n",
    "    def get_function_selector(self, ind):\n",
    "        return {1:self.get_inner_bound, 2:self.get_outer_bound}[ind]\n",
    "        \n",
    "    def OverOut(self, x1, x2):\n",
    "        return ((x1 >=self.outer.right - 1 or x1<=self.outer.left + 1) or (x2 >= self.outer.top - 1 or x2<=self.outer.bottom + 1))\n",
    "    def OverIn(self, x1, x2):\n",
    "        #print self.inner.left, self.inner.right, self.inner.bottom,  self.inner.top\n",
    "        #print x1, x2\n",
    "        #print (x1 >=self.inner.left - 1 and x1<=self.inner.right + 1)\n",
    "        #print (x2 >= self.inner.bottom - 1 and x2<=self.inner.top + 1)\n",
    "        return ((x1 >=self.inner.left - 1 and x1<=self.inner.right + 1) and (x2 >= self.inner.bottom - 1 and x2<=self.inner.top + 1))\n",
    "    def InCalorimeter(self, x1, x2):        \n",
    "        return not(self.OverOut(x1,x2)) and not(self.OverIn(x1,x2))\n",
    "        \n",
    "    def reconstr_param(self, x1, x2, is_outer):\n",
    "        answ = []\n",
    "        axes = {'x':x1, 'y':x2}\n",
    "        if (is_outer == 1):\n",
    "            coordinates = {'left':(x1-1, x2), 'bottom':(x1, x2-1), 'top':(x1, x2+1), 'right':(x1+1, x2)}\n",
    "            big_dict = {'y':{\"top\":self.outer.top, \"bottom\":self.outer.bottom}, 'x':{\"left\":self.outer.left, \"right\":self.outer.right}}\n",
    "        else:\n",
    "            coordinates = {'left':(x1+1, x2), 'bottom':(x1, x2+1), 'top':(x1, x2-1), 'right':(x1-1, x2)}\n",
    "            big_dict = {'y':{\"top\":self.inner.top, \"bottom\":self.inner.bottom}, 'x':{\"left\":self.inner.left, \"right\":self.inner.right}}\n",
    "        for elem in big_dict:\n",
    "            for side in big_dict[elem]: #elem - x или y # короче это например space.outer.top - elem[7] - 0 или 1, отстутп   \n",
    "                dist = abs(big_dict[elem][side] - axes[elem])\n",
    "                if (dist <= 1):\n",
    "                    answ = [(coordinates[side][0], coordinates[side][1], (2-ind), side) for ind in range(2-dist)] #dist 0 или 1\n",
    "                    return answ\n",
    "        return []\n",
    "\n",
    "class Inner(Area):\n",
    "    def __init__(self):\n",
    "        self.inner = Bound(25,38,23,40,1,1)\n",
    "        self.outer = Bound(14,49,8,55,2,3) #из 2-го в 1ый\n",
    "        self.multiplier_in = 1\n",
    "        self.divider_in = 1\n",
    "        self.multiplier_out = 2\n",
    "        self.divider_out = 3\n",
    "    \n",
    "    def NotInCalorimeter(self, x1, x2):  #x1- elem6, x2-elem7\n",
    "        return self.OverIn(x1, x2)\n",
    "        #return ((x1 >=self.inner.left + 1 and x1<=self.inner.right - 1) and (x2 >= self.inner.bottom + 1 and x2<=self.inner.top - 1)) #for Inner region \"True\" if in center hole\n",
    "        \n",
    "    \n",
    "class Middle(Area):\n",
    "    def __init__(self):\n",
    "        self.inner = Bound(19,44,15,48,3,2)#из 1-го в 2-ый\n",
    "        self.outer = Bound(12,51,0,63,1,2)# из 1 в 0-ый\n",
    "    def NotInCalorimeter(self, x1, x2):  #x1- elem6, x2-elem7 for Inner region \"True\" if in center hole \n",
    "        return False #every square could be restore\n",
    "    \n",
    "class Outer(Area):\n",
    "    def __init__(self):\n",
    "        self.inner = Bound(21,42,15,48,2,1)\n",
    "        self.outer = Bound(0,63,6,57,1,1)\n",
    "    def NotInCalorimeter(self, x1, x2):  #x1- elem6, x2-elem7 for Inner region \"True\" if in center hole \n",
    "        return self.OverOut(x1, x2)     "
   ]
  },
  {
   "cell_type": "code",
   "execution_count": 8,
   "metadata": {
    "collapsed": false
   },
   "outputs": [
    {
     "data": {
      "text/plain": [
       "3"
      ]
     },
     "execution_count": 8,
     "metadata": {},
     "output_type": "execute_result"
    }
   ],
   "source": [
    "abs(-3)"
   ]
  },
  {
   "cell_type": "code",
   "execution_count": 9,
   "metadata": {
    "collapsed": false
   },
   "outputs": [
    {
     "name": "stdout",
     "output_type": "stream",
     "text": [
      "0\n",
      "False\n",
      "True\n"
     ]
    }
   ],
   "source": [
    "areas = {2:Inner(), 1:Middle(), 0:Outer()}\n",
    "space = areas[1]\n",
    "print space.outer.bottom\n",
    "print space.outer.bottom + 1 >= 15 >= space.outer.bottom - 1 \n",
    "print (space.inner.left<=22<=space.inner.right)"
   ]
  },
  {
   "cell_type": "code",
   "execution_count": 10,
   "metadata": {
    "collapsed": false
   },
   "outputs": [],
   "source": [
    "import recover"
   ]
  },
  {
   "cell_type": "code",
   "execution_count": 11,
   "metadata": {
    "collapsed": false
   },
   "outputs": [],
   "source": [
    "#axis - left, right, top or bottom\n",
    "#n_area_bound - boundary layer from neighbour area (inner or outer, depends on)\n",
    "# n_ecal_data, n_ps_data - matrix of neighbour area (counted outside)\n",
    "\n",
    "make_vector = {'left':recover.make_vector_left, \\\n",
    "               'right':recover.make_vector_right,\\\n",
    "               'top':recover.make_vector_top,\\\n",
    "               'bottom':recover.make_vector_bottom}\n",
    "\n",
    "assigment = {'left':recover.assigment_left,\\\n",
    "             'right':recover.assigment_right,\\\n",
    "             'top':recover.assigment_top,\\\n",
    "              'bottom':recover.assigment_bottom}\n",
    "\n",
    "\n",
    "def reconstruct_new(cell_x, cell_y, distance_, axis, area_bound, n_area_bound, ecal_square, ps_square, n_ecal_data, n_ps_data, type_='norm'):\n",
    "    ecal_data_groups = n_ecal_data.groupby((\"col\",\"row\")) # y - колонка, x - ряд\n",
    "    ps_data_groups = n_ps_data.groupby((\"col\",\"row\"))\n",
    "    if (type_ == 'norm'):\n",
    "        multiplier,divider = area_bound.multiplier, area_bound.divider\n",
    "    else:\n",
    "        multiplier,divider = area_bound.multiplier, area_bound.divider\n",
    "    #print \"multiplier, divider\", multiplier,divider\n",
    "    vect_,vect_ps = make_vector[axis](cell_x, cell_y, area_bound, n_area_bound, ecal_data_groups, ps_data_groups,multiplier,divider)\n",
    "    assigment[axis](ecal_square, ps_square, vect_, vect_ps, distance_, type_)\n",
    "    #print \"square after\", ecal_square\n",
    "    return ecal_square, ps_square\n",
    "\n",
    "def append_(X_list, y_list, area_list,  X_, y_, area_tuple):\n",
    "    X_list.append(np.concatenate((X_[0].reshape((1,5,5)), X_[1].reshape((1,5,5))), 0))\n",
    "    y_list.append(y_)\n",
    "    area_list.append(area_tuple)"
   ]
  },
  {
   "cell_type": "code",
   "execution_count": 12,
   "metadata": {
    "collapsed": false
   },
   "outputs": [
    {
     "data": {
      "text/plain": [
       "{'0': {'inner': 0, 'outer': 0, 'simple': 0},\n",
       " '1': {'inner': 0, 'outer': 0, 'simple': 0},\n",
       " '2': {'inner': 0, 'outer': 0, 'simple': 0}}"
      ]
     },
     "execution_count": 12,
     "metadata": {},
     "output_type": "execute_result"
    }
   ],
   "source": [
    "number_of_samples = {'0':{'inner':0, 'outer':0, 'simple': 0}, '1':{'inner':0, 'outer':0, 'simple': 0}, '2':{'inner':0, 'outer':0, 'simple': 0}}\n",
    "number_of_samples"
   ]
  },
  {
   "cell_type": "markdown",
   "metadata": {},
   "source": [
    "## Destribution X, Y "
   ]
  },
  {
   "cell_type": "code",
   "execution_count": 13,
   "metadata": {
    "collapsed": false
   },
   "outputs": [],
   "source": [
    "destibution_dict0 = {'x':[],'y':[]}\n",
    "destibution_dict1 = {'x':[],'y':[]}\n",
    "destibution_dict2 = {'x':[],'y':[]}\n",
    "\n",
    "def count_distribution(samples, area, is_photon, need_hypo):\n",
    "    icount = 0\n",
    "    counter = 0\n",
    "    for string_ in samples:\n",
    "        i = 0\n",
    "        print string_\n",
    "        f = root_open(string_)\n",
    "        if (is_photon):\n",
    "            data = root_numpy.root2array(string_, \n",
    "                                 treename='dumpEcal/PhotonAreas')\n",
    "        else:\n",
    "            data = root_numpy.root2array(string_, \n",
    "                                 treename='dumpEcal/BPi0Areas')   \n",
    "        space = areas[area]\n",
    "        dataframe = pandas.DataFrame(root_numpy.root2array(string_, treename='dumpEcal/EcalDigis'))\n",
    "        groups = dataframe.groupby((\"eventID\",\"area\"))\n",
    "        dataframe_ps = pandas.DataFrame(root_numpy.root2array(string_, treename='dumpEcal/PSDigis'))\n",
    "        groups_ps = dataframe_ps.groupby((\"eventID\",\"area\"))\n",
    "        \n",
    "        if (i%5000 == 0):\n",
    "            print i\n",
    "        space = areas[area]\n",
    "        print len(data)\n",
    "        for indd, elem in enumerate(data):\n",
    "            photon = 100\n",
    "            if elem[5] != area:\n",
    "                continue\n",
    "           \n",
    "            if (space.NotInCalorimeter(elem[6],elem[7])):\n",
    "                if area == 2:\n",
    "                    counter+=1\n",
    "                continue\n",
    "            if (need_hypo):\n",
    "                photon = elem[10]\n",
    "            if (elem[1] > 2000 and photon > -99):\n",
    "                icount += 1 \n",
    "                if area == 0:\n",
    "                    destibution_dict0['x'].append(elem[6])\n",
    "                    destibution_dict0['y'].append(elem[7])\n",
    "                if area == 1:\n",
    "                    destibution_dict1['x'].append(elem[6])\n",
    "                    destibution_dict1['y'].append(elem[7])\n",
    "                if area == 2:\n",
    "                    destibution_dict2['x'].append(elem[6])\n",
    "                    destibution_dict2['y'].append(elem[7])\n",
    "    print icount"
   ]
  },
  {
   "cell_type": "code",
   "execution_count": 58,
   "metadata": {
    "collapsed": false
   },
   "outputs": [
    {
     "name": "stdout",
     "output_type": "stream",
     "text": [
      "0\n",
      "[54910, 0, 0]\n",
      "[54910, 0, 0]\n"
     ]
    }
   ],
   "source": [
    "print counter\n",
    "print map(len,[destibution_dict0['x'], destibution_dict1['x'], destibution_dict2['x']])\n",
    "print map(len,[destibution_dict0['y'], destibution_dict1['y'], destibution_dict2['y']])"
   ]
  },
  {
   "cell_type": "code",
   "execution_count": 43,
   "metadata": {
    "collapsed": false
   },
   "outputs": [
    {
     "data": {
      "image/png": "[encoded data removed]",
      "text/plain": [
       "<matplotlib.figure.Figure at 0x7f06191a3490>"
      ]
     },
     "metadata": {},
     "output_type": "display_data"
    }
   ],
   "source": [
    "from matplotlib import pyplot\n",
    "\n",
    "plt.hist(destibution_dict0['x'], bins = 50, alpha=0.5, label='x')\n",
    "plt.hist(destibution_dict1['x'], bins = 50, alpha=0.5, label='x')\n",
    "plt.hist(destibution_dict2['x'], bins = 50, alpha=0.5, label='x')\n",
    "pyplot.legend(loc='upper right')\n",
    "pyplot.show()"
   ]
  },
  {
   "cell_type": "code",
   "execution_count": 44,
   "metadata": {
    "collapsed": false
   },
   "outputs": [
    {
     "data": {
      "image/png": "[encoded data removed]",
      "text/plain": [
       "<matplotlib.figure.Figure at 0x7f061953d9d0>"
      ]
     },
     "metadata": {},
     "output_type": "display_data"
    }
   ],
   "source": [
    "plt.hist(destibution_dict0['y'], bins = 50, alpha=0.5, label='x')\n",
    "plt.hist(destibution_dict1['y'], bins = 50, alpha=0.5, label='x')\n",
    "plt.hist(destibution_dict2['y'], bins = 50, alpha=0.5, label='x')\n",
    "pyplot.legend(loc='upper right')\n",
    "pyplot.show()"
   ]
  },
  {
   "cell_type": "code",
   "execution_count": null,
   "metadata": {
    "collapsed": false
   },
   "outputs": [],
   "source": [
    "destibution_dict"
   ]
  },
  {
   "cell_type": "markdown",
   "metadata": {},
   "source": [
    "## Create samples ##"
   ]
  },
  {
   "cell_type": "code",
   "execution_count": 14,
   "metadata": {
    "collapsed": false
   },
   "outputs": [],
   "source": [
    "import pandas as pd\n",
    "import numpy as np\n",
    "import matplotlib.pyplot as plt\n",
    "from sklearn import preprocessing\n",
    "\n",
    "def append_(X_list, y_list, area_list,  X_, y_, area_tuple):\n",
    "    X_list.append(np.concatenate((X_[0].reshape((1,5,5)), X_[1].reshape((1,5,5))), 0))\n",
    "    y_list.append(y_)\n",
    "    area_list.append(area_tuple)\n",
    "\n",
    "x_6 = []\n",
    "x_7 = []\n",
    "sq_old = []\n",
    "sq_new = []\n",
    "\n",
    "areas = {2:Inner(), 1:Middle(), 0:Outer()}\n",
    "\n",
    "number_of_samples = {'0':{'simple':0, 'inner':0, 'outer':0}, '1':{'simple':0, 'inner':0, 'outer':0}, '2':{'simple':0, 'inner':0, 'outer':0}}\n",
    "counter = 0\n",
    "\n",
    "def make_sample_new(samples, area, is_photon, need_hypo):   #samples - list of root-sample , \n",
    "                                                        #is_photon - '1' if photon, '0' if pi0, hypo - hypothesis, \n",
    "                                                        #need_hypo - is hypothethis take into account\n",
    "    square_X_5_All = []\n",
    "    square_X_5_reconstruct_inner = []\n",
    "    square_X_5_reconstruct_outer = []\n",
    "    square_y = []\n",
    "    square_y_reconstruct_inner = []\n",
    "    square_y_reconstruct_outer = []\n",
    "    area_list = []\n",
    "    area_list_reconstruct_inner = []\n",
    "    area_list_reconstruct_outer = []\n",
    "    area_tuple = (area, 0)\n",
    "    area_tuple_reconstr_inner = (area, 1)\n",
    "    area_tuple_reconstr_outer = (area, 2)\n",
    "    counter = 0\n",
    "    u = 0\n",
    "    for string_ in samples:\n",
    "        i = 0\n",
    "        print string_\n",
    "        f = root_open(string_)\n",
    "        if (is_photon):\n",
    "            data = root_numpy.root2array(string_, \n",
    "                                 treename='dumpEcal/PhotonAreas')\n",
    "        else:\n",
    "            data = root_numpy.root2array(string_, \n",
    "                                 treename='dumpEcal/BPi0Areas')   \n",
    "        space = areas[area]\n",
    "        print space.inner.top\n",
    "        dataframe = pandas.DataFrame(root_numpy.root2array(string_, treename='dumpEcal/EcalDigis'))\n",
    "        groups = dataframe.groupby((\"eventID\",\"area\"))\n",
    "        dataframe_ps = pandas.DataFrame(root_numpy.root2array(string_, treename='dumpEcal/PSDigis'))\n",
    "        groups_ps = dataframe_ps.groupby((\"eventID\",\"area\"))\n",
    "        \n",
    "        if (i%5000 == 0):\n",
    "            print i\n",
    "        \n",
    "        print len(data)\n",
    "        for indd, elem in enumerate(data):\n",
    "            a = np.array(elem[8]).reshape((1,5,5))\n",
    "            b = np.array(elem[9]).reshape((1,5,5))\n",
    "            id_ = elem[0]\n",
    "            photon = 100\n",
    "            if (need_hypo):\n",
    "                photon = elem[10]\n",
    "\n",
    "\n",
    "            try:\n",
    "                dataframe1 = groups.get_group((id_,area))\n",
    "            except:\n",
    "                continue\n",
    "            if (len(dataframe1) == 0 or elem[5] != area):\n",
    "                continue\n",
    "                \n",
    "            if (space.NotInCalorimeter(elem[6],elem[7])):\n",
    "                if area == 2:\n",
    "                    if (elem[1] > 2000 and photon > -99):\n",
    "                        number_of_samples[str(area)]['inner'] += 1\n",
    "                        append_(square_X_5_reconstruct_inner, square_y_reconstruct_inner, area_list_reconstruct_inner, (a, b), is_photon, area_tuple_reconstr_inner)\n",
    "                        counter+=1\n",
    "                    continue\n",
    "                else:\n",
    "                    continue\n",
    "                \n",
    "            if(space.OverIn(elem[6], elem[7])): #in\n",
    "                n_space = areas[area+1]\n",
    "                try:\n",
    "                    dataframen = groups.get_group((id_,area+1))\n",
    "                    dataframe1_psn = groups_ps.get_group((id_,area+1))\n",
    "                except:\n",
    "                    continue\n",
    "                answ = space.reconstr_param(elem[6], elem[7], 0)\n",
    "                for param in answ:\n",
    "                    a,b = reconstruct_new(param[0], param[1], param[2], param[3] ,space.inner, n_space.outer, a.reshape((5,5)), b.reshape((5,5)), dataframen,  dataframe1_psn, 'inv')\n",
    "                if (elem[1] > 2000 and photon > -99):\n",
    "                    number_of_samples[str(area)]['inner'] += 1\n",
    "                    append_(square_X_5_reconstruct_inner, square_y_reconstruct_inner, area_list_reconstruct_inner, (a, b), is_photon, area_tuple_reconstr_inner)\n",
    "                \n",
    "            elif(space.OverOut(elem[6], elem[7])): #out\n",
    "                #print \"out\", elem[6], elem[7]\n",
    "                n_space = areas[area-1]\n",
    "                try:\n",
    "                    dataframen = groups.get_group((id_,area-1))\n",
    "                    dataframe1_psn = groups_ps.get_group((id_,area-1))\n",
    "                except:\n",
    "                    continue\n",
    "                answ = space.reconstr_param(elem[6], elem[7], 1)\n",
    "                for param in answ:\n",
    "                    a,b = reconstruct_new(param[0], param[1], param[2], param[3] ,space.outer, n_space.inner, a.reshape((5,5)), b.reshape((5,5)), dataframen,  dataframe1_psn)\n",
    "                if (elem[1] > 2000 and photon > -99): \n",
    "                    number_of_samples[str(area)]['outer'] += 1\n",
    "                    append_(square_X_5_reconstruct_outer, square_y_reconstruct_outer, area_list_reconstruct_outer, (a, b), is_photon, area_tuple_reconstr_outer)\n",
    "            else:\n",
    "                if (elem[1] > 2000 and photon > -99):\n",
    "                    number_of_samples[str(area)]['simple'] += 1\n",
    "                    append_(square_X_5_All, square_y, area_list, (a, b), is_photon, area_tuple)\n",
    "\n",
    "    return square_X_5_All, square_X_5_reconstruct_inner, square_X_5_reconstruct_outer, square_y, square_y_reconstruct_inner, square_y_reconstruct_outer, area_list, area_list_reconstruct_inner, area_list_reconstruct_outer "
   ]
  },
  {
   "cell_type": "code",
   "execution_count": 15,
   "metadata": {
    "collapsed": false
   },
   "outputs": [
    {
     "name": "stdout",
     "output_type": "stream",
     "text": [
      "6\n"
     ]
    }
   ],
   "source": [
    "print 6"
   ]
  },
  {
   "cell_type": "code",
   "execution_count": null,
   "metadata": {
    "collapsed": false
   },
   "outputs": [
    {
     "name": "stdout",
     "output_type": "stream",
     "text": [
      "../../../data_ROOT/Pi0s_j29_tuple.root\n",
      "48\n",
      "0\n",
      "7719\n",
      "../../../data_ROOT/Pi0s_j31_tuple.root\n",
      "48\n",
      "0\n",
      "7904\n",
      "../../../data_ROOT/Pi0s_j35_tuple.root\n",
      "48\n",
      "0\n",
      "120978\n",
      "../../../data_ROOT/Pi0s_j34_tuple.root\n",
      "48\n",
      "0\n",
      "112710\n",
      "../../../data_ROOT/Pi0s_j29_tuple.root\n",
      "48\n",
      "0\n",
      "7719\n",
      "../../../data_ROOT/Pi0s_j31_tuple.root\n",
      "48\n",
      "0\n",
      "7904\n",
      "../../../data_ROOT/Pi0s_j35_tuple.root\n",
      "48\n",
      "0"
     ]
    }
   ],
   "source": [
    "tup_pi0_list = []\n",
    "\n",
    "for i in range(3):\n",
    "    square_X_5_All, square_X_5_reconstruct_inner, square_X_5_reconstruct_outer, square_y, square_y_reconstruct_inner, square_y_reconstruct_outer, area_list, area_list_reconstruct_inner, area_list_reconstruct_outer = make_sample_new([\"../../../data_ROOT/Pi0s_j29_tuple.root\", \"../../../data_ROOT/Pi0s_j31_tuple.root\", \"../../../data_ROOT/Pi0s_j35_tuple.root\", \"../../../data_ROOT/Pi0s_j34_tuple.root\"],i,0,1)\n",
    "    tup_pi0_list.append([square_X_5_All, square_X_5_reconstruct_inner, square_X_5_reconstruct_outer, square_y, square_y_reconstruct_inner, square_y_reconstruct_outer, area_list, area_list_reconstruct_inner, area_list_reconstruct_outer])"
   ]
  },
  {
   "cell_type": "code",
   "execution_count": 18,
   "metadata": {
    "collapsed": false
   },
   "outputs": [],
   "source": [
    "import cPickle as pickle\n",
    "\n",
    "for ind, elem in enumerate(tup_pi0_list):\n",
    "    str_ = \"../../../obt_data/inner_outer/Pi0Area\" + str(ind) + \".pcl\"\n",
    "    with open(str_,'w') as fout:\n",
    "        pickle.dump(elem,fout)"
   ]
  },
  {
   "cell_type": "code",
   "execution_count": 17,
   "metadata": {
    "collapsed": false
   },
   "outputs": [
    {
     "name": "stdout",
     "output_type": "stream",
     "text": [
      "[42632, 12277, 0, 42632, 12277, 0, 42632, 12277, 0]\n",
      "[21921, 7665, 3774, 21921, 7665, 3774, 21921, 7665, 3774]\n",
      "[29895, 5981, 3617, 29895, 5981, 3617, 29895, 5981, 3617]\n"
     ]
    }
   ],
   "source": [
    "print map(len, tup_pi0_list[0])\n",
    "print map(len, tup_pi0_list[1])\n",
    "print map(len, tup_pi0_list[2])"
   ]
  },
  {
   "cell_type": "code",
   "execution_count": null,
   "metadata": {
    "collapsed": true
   },
   "outputs": [],
   "source": [
    "print map(len, tup_ph_list[0])\n",
    "print map(len, tup_ph_list[1])\n",
    "print map(len, tup_ph_list[2])"
   ]
  },
  {
   "cell_type": "code",
   "execution_count": null,
   "metadata": {
    "collapsed": false
   },
   "outputs": [
    {
     "name": "stdout",
     "output_type": "stream",
     "text": [
      "../../../data_ROOT/Photons_j36_tuple.root\n",
      "48\n",
      "0"
     ]
    }
   ],
   "source": [
    "tup_ph_list = []\n",
    "\n",
    "for i in range(3):\n",
    "    square_X_5_All, square_X_5_reconstruct_inner, square_X_5_reconstruct_outer, square_y, square_y_reconstruct_inner, square_y_reconstruct_outer, area_list, area_list_reconstruct_inner, area_list_reconstruct_outer  = make_sample_new([\"../../../data_ROOT/Photons_j36_tuple.root\"],i,1,1)\n",
    "    print \"i\"\n",
    "    tup_ph_list.append([square_X_5_All, square_X_5_reconstruct_inner, square_X_5_reconstruct_outer, square_y, square_y_reconstruct_inner, square_y_reconstruct_outer, area_list, area_list_reconstruct_inner, area_list_reconstruct_outer])"
   ]
  },
  {
   "cell_type": "code",
   "execution_count": 89,
   "metadata": {
    "collapsed": false
   },
   "outputs": [
    {
     "data": {
      "text/plain": [
       "3"
      ]
     },
     "execution_count": 89,
     "metadata": {},
     "output_type": "execute_result"
    }
   ],
   "source": [
    "len(tup_ph_list)"
   ]
  },
  {
   "cell_type": "code",
   "execution_count": 132,
   "metadata": {
    "collapsed": false
   },
   "outputs": [
    {
     "name": "stdout",
     "output_type": "stream",
     "text": [
      "l \n",
      "l \n",
      "l \n"
     ]
    }
   ],
   "source": [
    "for ind, elem in enumerate(tup_ph_list):\n",
    "    str_ = \"../../../obt_data/inner_outer/PhArea\" + str(ind) + \".pcl\"\n",
    "    print \"l \"\n",
    "    with open(str_,'w') as fout:\n",
    "        pickle.dump(elem,fout)"
   ]
  },
  {
   "cell_type": "markdown",
   "metadata": {
    "collapsed": true
   },
   "source": [
    "## Number of restoring ##"
   ]
  },
  {
   "cell_type": "code",
   "execution_count": 125,
   "metadata": {
    "collapsed": false
   },
   "outputs": [
    {
     "name": "stdout",
     "output_type": "stream",
     "text": [
      "Pi0\n"
     ]
    },
    {
     "data": {
      "text/plain": [
       "{'0': {'inner': 24554, 'outer': 0, 'simple': 85264},\n",
       " '1': {'inner': 15330, 'outer': 7548, 'simple': 43842},\n",
       " '2': {'inner': 0, 'outer': 7234, 'simple': 59790}}"
      ]
     },
     "execution_count": 125,
     "metadata": {},
     "output_type": "execute_result"
    }
   ],
   "source": [
    "print 'Pi0'\n",
    "number_of_samples"
   ]
  },
  {
   "cell_type": "code",
   "execution_count": 131,
   "metadata": {
    "collapsed": false
   },
   "outputs": [
    {
     "name": "stdout",
     "output_type": "stream",
     "text": [
      "Ph\n"
     ]
    },
    {
     "data": {
      "text/plain": [
       "{'0': {'inner': 18879, 'outer': 0, 'simple': 63530},\n",
       " '1': {'inner': 13960, 'outer': 10397, 'simple': 39216},\n",
       " '2': {'inner': 0, 'outer': 9546, 'simple': 45499}}"
      ]
     },
     "execution_count": 131,
     "metadata": {},
     "output_type": "execute_result"
    }
   ],
   "source": [
    "print 'Ph'\n",
    "number_of_samples"
   ]
  },
  {
   "cell_type": "code",
   "execution_count": 142,
   "metadata": {
    "collapsed": false
   },
   "outputs": [
    {
     "name": "stdout",
     "output_type": "stream",
     "text": [
      "area list len: 39216 0\n",
      "area list len: 21921 0\n"
     ]
    }
   ],
   "source": [
    "from sklearn.cross_validation import train_test_split\n",
    "\n",
    "\n",
    "def write_data3(str_):\n",
    "    with open(str_) as f_in:\n",
    "        square_All, square_inner, square_outer, y, y_inner, y_outer, area_list, area_list_inner, area_list_outer = pickle.load(f_in)\n",
    "    print \"area list len:\", len(area_list), len(area_list_reconstruct)\n",
    "    return np.array(square_All), np.array(y), np.array(area_list), np.array(square_inner), np.array(y_inner), np.array(area_list_inner), np.array(square_outer), np.array(y_outer), np.array(area_list_outer)\n",
    "\n",
    "def conc(x): return np.concatenate((x[0], x[1]), axis=0) \n",
    "\n",
    "square_All1, y1, area_list1, square_inner1, y_inner1, area_list_inner1, square_outer1, y_outer1, area_list_outer1 = write_data3(\"../../../obt_data/inner_outer/PhArea1.pcl\")\n",
    "square_All2, y2, area_list2, square_inner2, y_inner2, area_list_inner2, square_outer2, y_outer2, area_list_outer2 =  write_data3(\"../../../obt_data/inner_outer/Pi0Area1.pcl\")\n",
    "\n",
    "list1 = [square_All1, y1, area_list1, square_inner1, y_inner1, area_list_inner1, square_outer1, y_outer1, area_list_outer1]\n",
    "list2 = [square_All2, y2, area_list2, square_inner2, y_inner2, area_list_inner2, square_outer2, y_outer2, area_list_outer2]\n",
    "\n",
    "squares, y, area, squares_inner, y_inner, area_inner, squares_outer, y_outer, area_outer = map(conc, zip(list1, list2))\n",
    "\n",
    "common_list = [squares, y, area, squares_inner, y_inner, area_inner, squares_outer, y_outer, area_outer ]                                                                                            \n",
    "                                                                                               \n",
    "ret1 =  train_test_split(squares, y, area)\n",
    "ret2 =  train_test_split(squares_inner, y_inner, area_inner)\n",
    "ret3 =  train_test_split(squares_outer, y_outer, area_outer)        "
   ]
  },
  {
   "cell_type": "code",
   "execution_count": 140,
   "metadata": {
    "collapsed": false
   },
   "outputs": [
    {
     "name": "stdout",
     "output_type": "stream",
     "text": [
      "(39216, 2, 5, 5) (21921, 2, 5, 5)\n",
      "(39216,) (21921,)\n",
      "(39216, 2) (21921, 2)\n",
      "(13960, 2, 5, 5) (7665, 2, 5, 5)\n",
      "(13960,) (7665,)\n",
      "(13960, 2) (7665, 2)\n",
      "(10397, 2, 5, 5) (3774, 2, 5, 5)\n",
      "(10397,) (3774,)\n",
      "(10397, 2) (3774, 2)\n"
     ]
    }
   ],
   "source": [
    "for elem in zip(list1, list2):\n",
    "    print elem[0].shape, elem[1].shape"
   ]
  },
  {
   "cell_type": "code",
   "execution_count": 146,
   "metadata": {
    "collapsed": false
   },
   "outputs": [
    {
     "name": "stdout",
     "output_type": "stream",
     "text": [
      "[61137, 61137, 61137]\n",
      "[45852, 15285, 45852, 15285, 45852, 15285]\n"
     ]
    }
   ],
   "source": [
    "print map(len, common_list[:3])\n",
    "print map(len, ret1)"
   ]
  },
  {
   "cell_type": "code",
   "execution_count": null,
   "metadata": {
    "collapsed": true
   },
   "outputs": [],
   "source": []
  }
 ],
 "metadata": {
  "kernelspec": {
   "display_name": "Python 2",
   "language": "python",
   "name": "python2"
  },
  "language_info": {
   "codemirror_mode": {
    "name": "ipython",
    "version": 2
   },
   "file_extension": ".py",
   "mimetype": "text/x-python",
   "name": "python",
   "nbconvert_exporter": "python",
   "pygments_lexer": "ipython2",
   "version": "2.7.10"
  }
 },
 "nbformat": 4,
 "nbformat_minor": 0
}
