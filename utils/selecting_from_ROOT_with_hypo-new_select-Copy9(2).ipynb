{
 "cells": [
  {
   "cell_type": "code",
   "execution_count": 526,
   "metadata": {
    "collapsed": false
   },
   "outputs": [
    {
     "name": "stdout",
     "output_type": "stream",
     "text": [
      "Populating the interactive namespace from numpy and matplotlib\n"
     ]
    }
   ],
   "source": [
    "from rootpy.io import root_open\n",
    "import pandas\n",
    "%pylab inline"
   ]
  },
  {
   "cell_type": "code",
   "execution_count": 527,
   "metadata": {
    "collapsed": false
   },
   "outputs": [
    {
     "name": "stdout",
     "output_type": "stream",
     "text": [
      "env: OMP_NUM_THREADS=4\n"
     ]
    }
   ],
   "source": [
    "%env OMP_NUM_THREADS=4"
   ]
  },
  {
   "cell_type": "code",
   "execution_count": 528,
   "metadata": {
    "collapsed": false
   },
   "outputs": [
    {
     "name": "stdout",
     "output_type": "stream",
     "text": [
      "5\n"
     ]
    }
   ],
   "source": [
    "print 5"
   ]
  },
  {
   "cell_type": "code",
   "execution_count": 529,
   "metadata": {
    "collapsed": false
   },
   "outputs": [],
   "source": [
    "import root_numpy"
   ]
  },
  {
   "cell_type": "code",
   "execution_count": 530,
   "metadata": {
    "collapsed": false
   },
   "outputs": [],
   "source": [
    "data = root_numpy.root2array(\"../../data_ROOT/Pi0s_j29_tuple.root\", treename='dumpEcal/BPi0Areas')\n",
    "data_ecal = root_numpy.root2array(\"../../data_ROOT/Pi0s_j29_tuple.root\", treename='dumpEcal/PSDigis')"
   ]
  },
  {
   "cell_type": "markdown",
   "metadata": {},
   "source": [
    "Класс, который соответсвует области калориметра, проверяяет, не выскакивает ли квадрат за калориметр"
   ]
  },
  {
   "cell_type": "code",
   "execution_count": 531,
   "metadata": {
    "collapsed": false
   },
   "outputs": [
    {
     "name": "stdout",
     "output_type": "stream",
     "text": [
      "0\n",
      "1\n"
     ]
    }
   ],
   "source": [
    "for ind in range(0,2):\n",
    "    print ind"
   ]
  },
  {
   "cell_type": "code",
   "execution_count": 558,
   "metadata": {
    "collapsed": false
   },
   "outputs": [],
   "source": [
    "class Bound(object):\n",
    "    def __init__(self, left=0, right=0, bottom=0, top=0, multiplier = 1, divider = 1):\n",
    "        self.left = left\n",
    "        self.right = right\n",
    "        self.top = top\n",
    "        self.bottom = bottom\n",
    "        self.multiplier = multiplier\n",
    "        self.divider = divider\n",
    "\n",
    "class Area(object):\n",
    "    def __init__(self):\n",
    "        self.inner = Bound()\n",
    "        self.outer = Bound()\n",
    "    def get_inner_bound():\n",
    "        return self.inner\n",
    "    def get_outer_bound():\n",
    "        return self.outer\n",
    "    \n",
    "    def get_function_selector(self, ind):\n",
    "        return {1:self.get_inner_bound, 2:self.get_outer_bound}[ind]\n",
    "        \n",
    "    def OverOut(self, x1, x2):\n",
    "        return ((x1 >=self.outer.right - 1 or x1<=self.outer.left + 1) or (x2 >= self.outer.top - 1 or x2<=self.outer.bottom + 1))\n",
    "    def OverIn(self, x1, x2):\n",
    "        #print self.inner.left, self.inner.right, self.inner.bottom,  self.inner.top\n",
    "        #print x1, x2\n",
    "        #print (x1 >=self.inner.left - 1 and x1<=self.inner.right + 1)\n",
    "        #print (x2 >= self.inner.bottom - 1 and x2<=self.inner.top + 1)\n",
    "        return ((x1 >=self.inner.left - 1 and x1<=self.inner.right + 1) and (x2 >= self.inner.bottom - 1 and x2<=self.inner.top + 1))\n",
    "    def InCalorimeter(self, x1, x2):        \n",
    "        return not(self.OverOut(x1,x2)) and not(self.OverIn(x1,x2))\n",
    "        \n",
    "    def reconstr_param(self, x1, x2, is_outer):\n",
    "        answ = []\n",
    "        axes = {'x':x1, 'y':x2}\n",
    "        if (is_outer == 1):\n",
    "            coordinates = {'left':(x1-1, x2), 'bottom':(x1, x2-1), 'top':(x1, x2+1), 'right':(x1+1, x2)}\n",
    "            big_dict = {'y':{\"top\":self.outer.top, \"bottom\":self.outer.bottom}, 'x':{\"left\":self.outer.left, \"right\":self.outer.right}}\n",
    "        else:\n",
    "            coordinates = {'left':(x1+1, x2), 'bottom':(x1, x2+1), 'top':(x1, x2-1), 'right':(x1-1, x2)}\n",
    "            big_dict = {'y':{\"top\":self.inner.top, \"bottom\":self.inner.bottom}, 'x':{\"left\":self.inner.left, \"right\":self.inner.right}}\n",
    "        for elem in big_dict:\n",
    "            for side in big_dict[elem]: #elem - x или y # короче это например space.outer.top - elem[7] - 0 или 1, отстутп   \n",
    "                dist = abs(big_dict[elem][side] - axes[elem])\n",
    "                if (dist <= 1):\n",
    "                    answ = [(coordinates[side][0], coordinates[side][1], (2-ind), side) for ind in range(2-dist)] #dist 0 или 1\n",
    "                    return answ\n",
    "        return []\n",
    "\n",
    "class Inner(Area):\n",
    "    def __init__(self):\n",
    "        self.inner = Bound(25,38,23,40,1,1)\n",
    "        self.outer = Bound(14,49,8,55,2,3) #из 2-го в 1ый\n",
    "        self.multiplier_in = 1\n",
    "        self.divider_in = 1\n",
    "        self.multiplier_out = 2\n",
    "        self.divider_out = 3\n",
    "    \n",
    "    def NotInCalorimeter(self, x1, x2):  #x1- elem6, x2-elem7\n",
    "        return self.OverIn(x1, x2)\n",
    "        #return ((x1 >=self.inner.left + 1 and x1<=self.inner.right - 1) and (x2 >= self.inner.bottom + 1 and x2<=self.inner.top - 1)) #for Inner region \"True\" if in center hole\n",
    "        \n",
    "    \n",
    "class Middle(Area):\n",
    "    def __init__(self):\n",
    "        self.inner = Bound(19,44,15,48,3,2)#из 1-го в 2-ый\n",
    "        self.outer = Bound(12,51,0,63,1,2)# из 1 в 0-ый\n",
    "    def NotInCalorimeter(self, x1, x2):  #x1- elem6, x2-elem7 for Inner region \"True\" if in center hole \n",
    "        return False #every square could be restore\n",
    "    \n",
    "class Outer(Area):\n",
    "    def __init__(self):\n",
    "        self.inner = Bound(21,42,15,48,2,1)\n",
    "        self.outer = Bound(0,63,6,57,1,1)\n",
    "    def NotInCalorimeter(self, x1, x2):  #x1- elem6, x2-elem7 for Inner region \"True\" if in center hole \n",
    "        return self.OverOut(x1, x2)     "
   ]
  },
  {
   "cell_type": "code",
   "execution_count": 559,
   "metadata": {
    "collapsed": false
   },
   "outputs": [
    {
     "data": {
      "text/plain": [
       "3"
      ]
     },
     "execution_count": 559,
     "metadata": {},
     "output_type": "execute_result"
    }
   ],
   "source": [
    "abs(-3)"
   ]
  },
  {
   "cell_type": "code",
   "execution_count": 560,
   "metadata": {
    "collapsed": false
   },
   "outputs": [
    {
     "name": "stdout",
     "output_type": "stream",
     "text": [
      "0\n",
      "False\n",
      "True\n"
     ]
    }
   ],
   "source": [
    "areas = {2:Inner(), 1:Middle(), 0:Outer()}\n",
    "space = areas[1]\n",
    "print space.outer.bottom\n",
    "print space.outer.bottom + 1 >= 15 >= space.outer.bottom - 1 \n",
    "print (space.inner.left<=22<=space.inner.right)"
   ]
  },
  {
   "cell_type": "code",
   "execution_count": 577,
   "metadata": {
    "collapsed": false
   },
   "outputs": [],
   "source": [
    "def get_energy(cell_x_new, cell_y_new, ecal_data_groups, ps_data_groups):\n",
    "    #energy_ = 0.0\n",
    "    answ = []\n",
    "    for group in [ecal_data_groups, ps_data_groups]:\n",
    "        try:\n",
    "            energy_data = group.get_group((cell_y_new,cell_x_new))\n",
    "            energy_ = energy_data['energy'].values[0]\n",
    "        except:\n",
    "            energy_ = 0.0\n",
    "        answ.append(energy_)\n",
    "    return answ\n",
    "    \n",
    "\n",
    "\n",
    "def make_vector_left(cell_x, cell_y, area_bound, n_area_bound, ecal_data_groups, ps_data_groups, multiplier, divider):\n",
    "    vect_ = []\n",
    "    vect_ps = []\n",
    "    for y in [cell_y -2, cell_y -1, cell_y, cell_y +1, cell_y +2]:\n",
    "        cell_x_new = n_area_bound.left\n",
    "        cell_y_new = multiplier*(y - area_bound.bottom)/divider +n_area_bound.bottom\n",
    "        vect_.append(get_energy(cell_x_new, cell_y_new, ecal_data_groups, ps_data_groups)[0])\n",
    "        vect_ps.append(get_energy(cell_x_new, cell_y_new, ecal_data_groups, ps_data_groups)[1])\n",
    "    return vect_,vect_ps\n",
    "        \n",
    "def make_vector_right(cell_x, cell_y, area_bound, n_area_bound, ecal_data_groups, ps_data_groups, multiplier, divider):\n",
    "    vect_ = []\n",
    "    vect_ps = []\n",
    "    for y in [cell_y -2, cell_y -1, cell_y, cell_y +1, cell_y +2]:\n",
    "        cell_x_new = n_area_bound.right\n",
    "        cell_y_new = multiplier*(y - area_bound.bottom)/divider +n_area_bound.bottom\n",
    "        vect_.append(get_energy(cell_x_new, cell_y_new, ecal_data_groups, ps_data_groups)[0])\n",
    "        vect_ps.append(get_energy(cell_x_new, cell_y_new, ecal_data_groups, ps_data_groups)[1])\n",
    "    return vect_,vect_ps\n",
    "        \n",
    "def make_vector_top(cell_x, cell_y, area_bound, n_area_bound, ecal_data_groups, ps_data_groups, multiplier, divider):\n",
    "    vect_ = []\n",
    "    vect_ps = []\n",
    "    for x in [cell_x -2, cell_x -1, cell_x, cell_x +1, cell_x +2]:\n",
    "        cell_x_new = multiplier*(x - area_bound.left)/divider + n_area_bound.left\n",
    "        cell_y_new = n_area_bound.top\n",
    "        vect_.append(get_energy(cell_x_new, cell_y_new, ecal_data_groups, ps_data_groups)[0])\n",
    "        vect_ps.append(get_energy(cell_x_new, cell_y_new, ecal_data_groups, ps_data_groups)[1])\n",
    "    return vect_,vect_ps\n",
    "\n",
    "def make_vector_bottom(cell_x, cell_y, area_bound, n_area_bound, ecal_data_groups, ps_data_groups, multiplier, divider):\n",
    "    vect_ = []\n",
    "    vect_ps = []\n",
    "    for x in [cell_x -2, cell_x -1, cell_x, cell_x +1, cell_x +2]:\n",
    "        cell_x_new = multiplier*(x - area_bound.left)/divider + n_area_bound.left\n",
    "        cell_y_new = n_area_bound.bottom\n",
    "        vect_.append(get_energy(cell_x_new, cell_y_new, ecal_data_groups, ps_data_groups)[0])\n",
    "        vect_ps.append(get_energy(cell_x_new, cell_y_new, ecal_data_groups, ps_data_groups)[1])\n",
    "    return vect_,vect_ps\n",
    "\n",
    "def assigment_left(ecal_square, ps_square, vect_, vect_ps, distance_, type_='norm'): #type - out - norm, in - inv\n",
    "    distanses = {\"norm\":2-distance_, \"inv\":2+distance_}\n",
    "    ecal_square[distanses[type_], :] = vect_ #если координата по x меняем y столбец\n",
    "    ps_square[distanses[type_], :] = vect_ps\n",
    "    \n",
    "def assigment_right(ecal_square, ps_square, vect_, vect_ps, distance_,  type_='norm'):\n",
    "    distanses = {\"norm\":2+distance_, \"inv\":2-distance_}\n",
    "    ecal_square[distanses[type_], :] = vect_\n",
    "    ps_square[distanses[type_], :] = vect_ps\n",
    "    \n",
    "def assigment_top(ecal_square, ps_square, vect_, vect_ps, distance_,  type_='norm'):\n",
    "    distanses = {\"norm\":2+distance_, \"inv\":2-distance_}\n",
    "    ecal_square[:, distanses[type_]] = np.array(vect_)#если координата по y меняем x столбец\n",
    "    ps_square[:, distanses[type_]] = np.array(vect_ps)\n",
    "    \n",
    "def assigment_bottom(ecal_square, ps_square, vect_, vect_ps, distance_,  type_='norm'):\n",
    "    distanses = {\"norm\":2-distance_, \"inv\":2+distance_}\n",
    "    ecal_square[:, distanses[type_]] = np.array(vect_)#если координата по y меняем x столбец\n",
    "    ps_square[:, distanses[type_]] = np.array(vect_ps)"
   ]
  },
  {
   "cell_type": "code",
   "execution_count": 584,
   "metadata": {
    "collapsed": false
   },
   "outputs": [],
   "source": [
    "#axis - left, right, top or bottom\n",
    "#n_area_bound - boundary layer from neighbour area (inner or outer, depends on)\n",
    "# n_ecal_data, n_ps_data - matrix of neighbour area (counted outside)\n",
    "\n",
    "make_vector = {'left':make_vector_left, \\\n",
    "               'right':make_vector_right,\\\n",
    "               'top':make_vector_top,\\\n",
    "               'bottom':make_vector_bottom}\n",
    "\n",
    "assigment = {'left':assigment_left,\\\n",
    "             'right':assigment_right,\\\n",
    "             'top':assigment_top,\\\n",
    "              'bottom':assigment_bottom}\n",
    "\n",
    "\n",
    "def reconstruct_new(cell_x, cell_y, distance_, axis, area_bound, n_area_bound, ecal_square, ps_square, n_ecal_data, n_ps_data, type_='norm'):\n",
    "    ecal_data_groups = n_ecal_data.groupby((\"col\",\"row\")) # y - колонка, x - ряд\n",
    "    ps_data_groups = n_ps_data.groupby((\"col\",\"row\"))\n",
    "    if (type_ == 'norm'):\n",
    "        multiplier,divider = area_bound.multiplier, area_bound.divider\n",
    "    else:\n",
    "        multiplier,divider = area_bound.multiplier, area_bound.divider\n",
    "    #print \"multiplier, divider\", multiplier,divider\n",
    "    vect_,vect_ps = make_vector[axis](cell_x, cell_y, area_bound, n_area_bound, ecal_data_groups, ps_data_groups,multiplier,divider)\n",
    "    assigment[axis](ecal_square, ps_square, vect_, vect_ps, distance_, type_)\n",
    "    #print \"square after\", ecal_square\n",
    "    return ecal_square, ps_square"
   ]
  },
  {
   "cell_type": "code",
   "execution_count": 585,
   "metadata": {
    "collapsed": false
   },
   "outputs": [
    {
     "ename": "SyntaxError",
     "evalue": "invalid syntax (<ipython-input-585-fa0a4742c89f>, line 1)",
     "output_type": "error",
     "traceback": [
      "\u001b[1;36m  File \u001b[1;32m\"<ipython-input-585-fa0a4742c89f>\"\u001b[1;36m, line \u001b[1;32m1\u001b[0m\n\u001b[1;33m    19 43\u001b[0m\n\u001b[1;37m        ^\u001b[0m\n\u001b[1;31mSyntaxError\u001b[0m\u001b[1;31m:\u001b[0m invalid syntax\n"
     ]
    }
   ],
   "source": [
    "19 43"
   ]
  },
  {
   "cell_type": "code",
   "execution_count": 586,
   "metadata": {
    "collapsed": false
   },
   "outputs": [],
   "source": [
    "import pandas as pd\n",
    "import numpy as np\n",
    "import matplotlib.pyplot as plt\n",
    "from sklearn import preprocessing\n",
    "\n",
    "x_6 = []\n",
    "x_7 = []\n",
    "sq_old = []\n",
    "sq_new = []\n",
    "\n",
    "areas = {2:Inner(), 1:Middle(), 0:Outer()}\n",
    "\n",
    "def make_sample_new(samples, area, is_photon, need_hypo):   #samples - list of root-sample , \n",
    "                                                        #is_photon - '1' if photon, '0' if pi0, hypo - hypothesis, \n",
    "                                                        #need_hypo - is hypothethis take into account\n",
    "    square_X_5_All = []\n",
    "    square_y = []\n",
    "    energy_list = []\n",
    "    features_list = []\n",
    "    hypo_list = []\n",
    "    k = 0\n",
    "    u = 0\n",
    "    for string_ in samples:\n",
    "        i = 0\n",
    "        print string_\n",
    "        f = root_open(string_)\n",
    "        if (is_photon):\n",
    "            data = root_numpy.root2array(string_, \n",
    "                                 treename='dumpEcal/PhotonAreas')\n",
    "        else:\n",
    "            data = root_numpy.root2array(string_, \n",
    "                                 treename='dumpEcal/BPi0Areas')   \n",
    "        space = areas[area]\n",
    "        print space.inner.top\n",
    "        dataframe = pandas.DataFrame(root_numpy.root2array(string_, treename='dumpEcal/EcalDigis'))\n",
    "        groups = dataframe.groupby((\"eventID\",\"area\"))\n",
    "        dataframe_ps = pandas.DataFrame(root_numpy.root2array(string_, treename='dumpEcal/PSDigis'))\n",
    "        groups_ps = dataframe_ps.groupby((\"eventID\",\"area\"))\n",
    "        print len(data)\n",
    "        for indd, elem in enumerate(data):\n",
    "            a = np.array(elem[8]).reshape((1,5,5))\n",
    "            b = np.array(elem[9]).reshape((1,5,5))\n",
    "            id_ = elem[0]\n",
    "            photon = 100\n",
    "            if (need_hypo):\n",
    "                photon = elem[10]\n",
    "\n",
    "            if (space.NotInCalorimeter(elem[6],elem[7])):\n",
    "                continue\n",
    "            try:\n",
    "                dataframe1 = groups.get_group((id_,area))\n",
    "            except:\n",
    "                continue\n",
    "            if (len(dataframe1) == 0 or elem[5] != area):\n",
    "                continue\n",
    "                \n",
    "            if(space.OverIn(elem[6], elem[7])): #in\n",
    "                #print \"in\", i\n",
    "                n_space = areas[area+1]\n",
    "                try:\n",
    "                    dataframen = groups.get_group((id_,area+1))\n",
    "                    dataframe1_psn = groups_ps.get_group((id_,area+1))\n",
    "                except:\n",
    "                    continue\n",
    "                answ = space.reconstr_param(elem[6], elem[7], 0)\n",
    "                for param in answ:\n",
    "                    a,b = reconstruct_new(param[0], param[1], param[2], param[3] ,space.inner, n_space.outer, a.reshape((5,5)), b.reshape((5,5)), dataframen,  dataframe1_psn, 'inv')\n",
    "\n",
    "            elif(space.OverOut(elem[6], elem[7])): #out\n",
    "                #print \"out\", elem[6], elem[7]\n",
    "                n_space = areas[area-1]\n",
    "                try:\n",
    "                    dataframen = groups.get_group((id_,area-1))\n",
    "                    dataframe1_psn = groups_ps.get_group((id_,area-1))\n",
    "                except:\n",
    "                    continue\n",
    "                answ = space.reconstr_param(elem[6], elem[7], 1)\n",
    "                for param in answ:\n",
    "                    a,b = reconstruct_new(param[0], param[1], param[2], param[3] ,space.outer, n_space.inner, a.reshape((5,5)), b.reshape((5,5)), dataframen,  dataframe1_psn)\n",
    "            if (elem[1] > 2000 and photon > -99):\n",
    "                i += 1\n",
    "                if (i%5000 == 0):\n",
    "                    print i\n",
    "                hypo_list.append(photon)\n",
    "                square_X_5_All.append(np.concatenate((a.reshape((1,5,5)), b.reshape((1,5,5))), 0))\n",
    "                square_y.append(is_photon)\n",
    "                energy_list.append(elem[1])\n",
    "\n",
    "    return square_X_5_All, hypo_list, square_y, energy_list"
   ]
  },
  {
   "cell_type": "code",
   "execution_count": 587,
   "metadata": {
    "collapsed": false
   },
   "outputs": [
    {
     "name": "stdout",
     "output_type": "stream",
     "text": [
      "../../data_ROOT/Pi0s_j29_tuple.root\n",
      "48\n",
      "7719\n"
     ]
    }
   ],
   "source": [
    "square_X_5_All2, hypo_list, square_y, energy_list = make_sample_new([\"../../data_ROOT/Pi0s_j29_tuple.root\"],1,0,1)"
   ]
  },
  {
   "cell_type": "code",
   "execution_count": 588,
   "metadata": {
    "collapsed": false
   },
   "outputs": [
    {
     "name": "stdout",
     "output_type": "stream",
     "text": [
      "../../data_ROOT/Pi0s_j29_tuple.root\n",
      "7719\n",
      "5000\n"
     ]
    }
   ],
   "source": [
    "square_X_5_All1, hypo_list, square_y, energy_list = make_sample([\"../../data_ROOT/Pi0s_j29_tuple.root\"],1,0,1)"
   ]
  },
  {
   "cell_type": "code",
   "execution_count": null,
   "metadata": {
    "collapsed": true
   },
   "outputs": [],
   "source": [
    "plt.figure(figsize = [6,22])\n",
    "i = 0\n",
    "for index, sq in enumerate(sq_new[:10]):\n",
    "    i = i + 1\n",
    "    plt.subplot(10, 2, i)\n",
    "    plt.imshow(square_X_5_All1[ind][0].reshape(5,5), interpolation = 'nearest')\n",
    "    i = i + 1\n",
    "    plt.subplot(10, 2, i)\n",
    "    plt.imshow(sq.reshape(5,5), interpolation='nearest')\n",
    "plt.savefig(\"reconstruct2.png\")\n",
    "plt.show()"
   ]
  },
  {
   "cell_type": "code",
   "execution_count": 598,
   "metadata": {
    "collapsed": false
   },
   "outputs": [
    {
     "data": {
      "image/png": "[encoded data removed]",
      "text/plain": [
       "<matplotlib.figure.Figure at 0x7fc087aae110>"
      ]
     },
     "metadata": {},
     "output_type": "display_data"
    },
    {
     "name": "stdout",
     "output_type": "stream",
     "text": [
      "10\n"
     ]
    }
   ],
   "source": [
    "err = 0\n",
    "plt.figure(figsize = [6,22])\n",
    "i = 0\n",
    "for ind in range(len(square_X_5_All1)):\n",
    "    if (np.sum(square_X_5_All1[ind][0]) != np.sum(square_X_5_All2[ind][0]) and err < 10):\n",
    "        i = i + 1\n",
    "        plt.subplot(10, 2, i)\n",
    "        plt.imshow(square_X_5_All1[ind][0].reshape(5,5), interpolation = 'nearest')\n",
    "        i = i + 1\n",
    "        plt.subplot(10, 2, i)\n",
    "        plt.imshow(square_X_5_All2[ind][0].reshape(5,5), interpolation = 'nearest')\n",
    "        err += 1\n",
    "plt.show()\n",
    "print err"
   ]
  },
  {
   "cell_type": "code",
   "execution_count": 294,
   "metadata": {
    "collapsed": false
   },
   "outputs": [
    {
     "name": "stdout",
     "output_type": "stream",
     "text": [
      "[ 207.41055298  134.11982727  172.44960022  -13.15735435    0.        ]\n",
      "[  322.50387573  1108.49621582  1595.53344727   235.9365387     30.05623245]\n",
      "[   461.06976318  38430.03125     79297.9453125    1497.80175781\n",
      "    182.62214661]\n",
      "[  719.40966797  2519.5065918   4262.96972656   998.78253174   119.13096619]\n",
      "[  66.34363556  240.8085022   260.65936279  220.67149353  -38.426754  ]\n"
     ]
    }
   ],
   "source": [
    "for elem in square_X_5_All1[0][0]:\n",
    "    print elem"
   ]
  },
  {
   "cell_type": "code",
   "execution_count": 301,
   "metadata": {
    "collapsed": false
   },
   "outputs": [
    {
     "name": "stdout",
     "output_type": "stream",
     "text": [
      "[   0.            0.          349.59243774    0.            0.        ]\n",
      "[    0.             0.          6389.01904297     0.             0.        ]\n",
      "[     0.            0.        21859.671875      0.            0.      ]\n",
      "[    0.             0.          3842.71459961     0.             0.        ]\n",
      "[   0.            0.          196.34591675    0.            0.        ]\n",
      "32637.3\n"
     ]
    }
   ],
   "source": [
    "for elem in square_X_5_All2[1][0]:\n",
    "    print elem\n",
    "print np.sum(square_X_5_All2[1][0])"
   ]
  },
  {
   "cell_type": "code",
   "execution_count": 299,
   "metadata": {
    "collapsed": false
   },
   "outputs": [
    {
     "name": "stdout",
     "output_type": "stream",
     "text": [
      "[ 207.41055298  134.11982727  172.44960022  -13.15735435    0.        ]\n",
      "[  322.50387573  1108.49621582  1595.53344727   235.9365387     30.05623245]\n",
      "[   461.06976318  38430.03125     79297.9453125    1497.80175781\n",
      "    182.62214661]\n",
      "[  719.40966797  2519.5065918   4262.96972656   998.78253174   119.13096619]\n",
      "[  66.34363556  240.8085022   260.65936279  220.67149353  -38.426754  ]\n",
      "133033.0\n"
     ]
    }
   ],
   "source": [
    "for elem in square_X_5_All1[1][0]:\n",
    "    print elem\n",
    "print np.sum(square_X_5_All1[1][0])"
   ]
  },
  {
   "cell_type": "code",
   "execution_count": 310,
   "metadata": {
    "collapsed": false
   },
   "outputs": [
    {
     "data": {
      "text/plain": [
       "1"
      ]
     },
     "execution_count": 310,
     "metadata": {},
     "output_type": "execute_result"
    }
   ],
   "source": [
    "len(square_X_5_All2)"
   ]
  },
  {
   "cell_type": "code",
   "execution_count": 19,
   "metadata": {
    "collapsed": true
   },
   "outputs": [],
   "source": [
    "import cPickle as pickle\n",
    "with open(\"../../obt_data/RecArea1rec_only.pcl\",'w') as fout:\n",
    "    pickle.dump([square_X_5_All, hypo_list, square_y, energy_list],fout)"
   ]
  },
  {
   "cell_type": "code",
   "execution_count": null,
   "metadata": {
    "collapsed": true
   },
   "outputs": [],
   "source": [
    "square_X_5_All_ph, hypo_list_ph, square_y_ph, energy_list_ph = make_sample([\"../../data_ROOT/Photons_j30_tuple.root\",\"../../data_ROOT/Photons_j36_tuple.root\"],1,1,1)"
   ]
  },
  {
   "cell_type": "code",
   "execution_count": 13,
   "metadata": {
    "collapsed": true
   },
   "outputs": [],
   "source": [
    "import cPickle as pickle\n",
    "with open(\"../../obt_data/RecArea1rec_only_ph.pcl\",'w') as fout:\n",
    "    pickle.dump([square_X_5_All_ph, hypo_list_ph, square_y_ph, energy_list_ph],fout)"
   ]
  },
  {
   "cell_type": "code",
   "execution_count": 20,
   "metadata": {
    "collapsed": true
   },
   "outputs": [],
   "source": [
    "import cPickle as pickle\n",
    "with open(\"../../obt_data/RecArea1Ph.pcl\",'w') as fout:\n",
    "    pickle.dump([square_X_5_All_ph, hypo_list_ph, square_y_ph, energy_list_ph],fout)"
   ]
  },
  {
   "cell_type": "code",
   "execution_count": null,
   "metadata": {
    "collapsed": true
   },
   "outputs": [],
   "source": [
    "class Top(object):\n",
    "    def transform1(self,x):\n",
    "        return x+1\n",
    "    def transform2(self,x):\n",
    "        return x*2"
   ]
  },
  {
   "cell_type": "code",
   "execution_count": 15,
   "metadata": {
    "collapsed": false
   },
   "outputs": [
    {
     "data": {
      "text/plain": [
       "(11, 20)"
      ]
     },
     "execution_count": 15,
     "metadata": {},
     "output_type": "execute_result"
    }
   ],
   "source": [
    "calculate(10, Top())"
   ]
  },
  {
   "cell_type": "code",
   "execution_count": 16,
   "metadata": {
    "collapsed": false
   },
   "outputs": [
    {
     "data": {
      "text/plain": [
       "(9, 30)"
      ]
     },
     "execution_count": 16,
     "metadata": {},
     "output_type": "execute_result"
    }
   ],
   "source": [
    "calculate(10, Left())"
   ]
  },
  {
   "cell_type": "code",
   "execution_count": 17,
   "metadata": {
    "collapsed": true
   },
   "outputs": [],
   "source": [
    "s2f={'top':Top(), 'left':Left()}"
   ]
  },
  {
   "cell_type": "code",
   "execution_count": 18,
   "metadata": {
    "collapsed": false
   },
   "outputs": [
    {
     "data": {
      "text/plain": [
       "(19, 60)"
      ]
     },
     "execution_count": 18,
     "metadata": {},
     "output_type": "execute_result"
    }
   ],
   "source": [
    "calculate(20, s2f['left'])"
   ]
  },
  {
   "cell_type": "code",
   "execution_count": 19,
   "metadata": {
    "collapsed": false
   },
   "outputs": [
    {
     "data": {
      "text/plain": [
       "(21, 40)"
      ]
     },
     "execution_count": 19,
     "metadata": {},
     "output_type": "execute_result"
    }
   ],
   "source": [
    "calculate(20, s2f['top'])"
   ]
  },
  {
   "cell_type": "code",
   "execution_count": null,
   "metadata": {
    "collapsed": true
   },
   "outputs": [],
   "source": []
  }
 ],
 "metadata": {
  "kernelspec": {
   "display_name": "Python 2",
   "language": "python",
   "name": "python2"
  },
  "language_info": {
   "codemirror_mode": {
    "name": "ipython",
    "version": 2
   },
   "file_extension": ".py",
   "mimetype": "text/x-python",
   "name": "python",
   "nbconvert_exporter": "python",
   "pygments_lexer": "ipython2",
   "version": "2.7.10"
  }
 },
 "nbformat": 4,
 "nbformat_minor": 0
}
